{
 "cells": [
  {
   "cell_type": "code",
   "execution_count": 28,
   "id": "716a3ab3",
   "metadata": {},
   "outputs": [],
   "source": [
    "import pandas as pd\n",
    "import numpy as np\n",
    "import matplotlib.pyplot as plt\n",
    "import seaborn as sns"
   ]
  },
  {
   "cell_type": "code",
   "execution_count": 29,
   "id": "5032c2f3",
   "metadata": {},
   "outputs": [],
   "source": [
    "import warnings\n",
    "warnings.filterwarnings('ignore')"
   ]
  },
  {
   "cell_type": "code",
   "execution_count": 30,
   "id": "c359470d",
   "metadata": {},
   "outputs": [
    {
     "data": {
      "text/html": [
       "<div>\n",
       "<style scoped>\n",
       "    .dataframe tbody tr th:only-of-type {\n",
       "        vertical-align: middle;\n",
       "    }\n",
       "\n",
       "    .dataframe tbody tr th {\n",
       "        vertical-align: top;\n",
       "    }\n",
       "\n",
       "    .dataframe thead th {\n",
       "        text-align: right;\n",
       "    }\n",
       "</style>\n",
       "<table border=\"1\" class=\"dataframe\">\n",
       "  <thead>\n",
       "    <tr style=\"text-align: right;\">\n",
       "      <th></th>\n",
       "      <th>Time</th>\n",
       "      <th>V1</th>\n",
       "      <th>V2</th>\n",
       "      <th>V3</th>\n",
       "      <th>V4</th>\n",
       "      <th>V5</th>\n",
       "      <th>V6</th>\n",
       "      <th>V7</th>\n",
       "      <th>V8</th>\n",
       "      <th>V9</th>\n",
       "      <th>...</th>\n",
       "      <th>V21</th>\n",
       "      <th>V22</th>\n",
       "      <th>V23</th>\n",
       "      <th>V24</th>\n",
       "      <th>V25</th>\n",
       "      <th>V26</th>\n",
       "      <th>V27</th>\n",
       "      <th>V28</th>\n",
       "      <th>Amount</th>\n",
       "      <th>Class</th>\n",
       "    </tr>\n",
       "  </thead>\n",
       "  <tbody>\n",
       "    <tr>\n",
       "      <th>0</th>\n",
       "      <td>0.0</td>\n",
       "      <td>-1.359807</td>\n",
       "      <td>-0.072781</td>\n",
       "      <td>2.536347</td>\n",
       "      <td>1.378155</td>\n",
       "      <td>-0.338321</td>\n",
       "      <td>0.462388</td>\n",
       "      <td>0.239599</td>\n",
       "      <td>0.098698</td>\n",
       "      <td>0.363787</td>\n",
       "      <td>...</td>\n",
       "      <td>-0.018307</td>\n",
       "      <td>0.277838</td>\n",
       "      <td>-0.110474</td>\n",
       "      <td>0.066928</td>\n",
       "      <td>0.128539</td>\n",
       "      <td>-0.189115</td>\n",
       "      <td>0.133558</td>\n",
       "      <td>-0.021053</td>\n",
       "      <td>149.62</td>\n",
       "      <td>0</td>\n",
       "    </tr>\n",
       "    <tr>\n",
       "      <th>1</th>\n",
       "      <td>0.0</td>\n",
       "      <td>1.191857</td>\n",
       "      <td>0.266151</td>\n",
       "      <td>0.166480</td>\n",
       "      <td>0.448154</td>\n",
       "      <td>0.060018</td>\n",
       "      <td>-0.082361</td>\n",
       "      <td>-0.078803</td>\n",
       "      <td>0.085102</td>\n",
       "      <td>-0.255425</td>\n",
       "      <td>...</td>\n",
       "      <td>-0.225775</td>\n",
       "      <td>-0.638672</td>\n",
       "      <td>0.101288</td>\n",
       "      <td>-0.339846</td>\n",
       "      <td>0.167170</td>\n",
       "      <td>0.125895</td>\n",
       "      <td>-0.008983</td>\n",
       "      <td>0.014724</td>\n",
       "      <td>2.69</td>\n",
       "      <td>0</td>\n",
       "    </tr>\n",
       "    <tr>\n",
       "      <th>2</th>\n",
       "      <td>1.0</td>\n",
       "      <td>-1.358354</td>\n",
       "      <td>-1.340163</td>\n",
       "      <td>1.773209</td>\n",
       "      <td>0.379780</td>\n",
       "      <td>-0.503198</td>\n",
       "      <td>1.800499</td>\n",
       "      <td>0.791461</td>\n",
       "      <td>0.247676</td>\n",
       "      <td>-1.514654</td>\n",
       "      <td>...</td>\n",
       "      <td>0.247998</td>\n",
       "      <td>0.771679</td>\n",
       "      <td>0.909412</td>\n",
       "      <td>-0.689281</td>\n",
       "      <td>-0.327642</td>\n",
       "      <td>-0.139097</td>\n",
       "      <td>-0.055353</td>\n",
       "      <td>-0.059752</td>\n",
       "      <td>378.66</td>\n",
       "      <td>0</td>\n",
       "    </tr>\n",
       "    <tr>\n",
       "      <th>3</th>\n",
       "      <td>1.0</td>\n",
       "      <td>-0.966272</td>\n",
       "      <td>-0.185226</td>\n",
       "      <td>1.792993</td>\n",
       "      <td>-0.863291</td>\n",
       "      <td>-0.010309</td>\n",
       "      <td>1.247203</td>\n",
       "      <td>0.237609</td>\n",
       "      <td>0.377436</td>\n",
       "      <td>-1.387024</td>\n",
       "      <td>...</td>\n",
       "      <td>-0.108300</td>\n",
       "      <td>0.005274</td>\n",
       "      <td>-0.190321</td>\n",
       "      <td>-1.175575</td>\n",
       "      <td>0.647376</td>\n",
       "      <td>-0.221929</td>\n",
       "      <td>0.062723</td>\n",
       "      <td>0.061458</td>\n",
       "      <td>123.50</td>\n",
       "      <td>0</td>\n",
       "    </tr>\n",
       "    <tr>\n",
       "      <th>4</th>\n",
       "      <td>2.0</td>\n",
       "      <td>-1.158233</td>\n",
       "      <td>0.877737</td>\n",
       "      <td>1.548718</td>\n",
       "      <td>0.403034</td>\n",
       "      <td>-0.407193</td>\n",
       "      <td>0.095921</td>\n",
       "      <td>0.592941</td>\n",
       "      <td>-0.270533</td>\n",
       "      <td>0.817739</td>\n",
       "      <td>...</td>\n",
       "      <td>-0.009431</td>\n",
       "      <td>0.798278</td>\n",
       "      <td>-0.137458</td>\n",
       "      <td>0.141267</td>\n",
       "      <td>-0.206010</td>\n",
       "      <td>0.502292</td>\n",
       "      <td>0.219422</td>\n",
       "      <td>0.215153</td>\n",
       "      <td>69.99</td>\n",
       "      <td>0</td>\n",
       "    </tr>\n",
       "  </tbody>\n",
       "</table>\n",
       "<p>5 rows × 31 columns</p>\n",
       "</div>"
      ],
      "text/plain": [
       "   Time        V1        V2        V3        V4        V5        V6        V7  \\\n",
       "0   0.0 -1.359807 -0.072781  2.536347  1.378155 -0.338321  0.462388  0.239599   \n",
       "1   0.0  1.191857  0.266151  0.166480  0.448154  0.060018 -0.082361 -0.078803   \n",
       "2   1.0 -1.358354 -1.340163  1.773209  0.379780 -0.503198  1.800499  0.791461   \n",
       "3   1.0 -0.966272 -0.185226  1.792993 -0.863291 -0.010309  1.247203  0.237609   \n",
       "4   2.0 -1.158233  0.877737  1.548718  0.403034 -0.407193  0.095921  0.592941   \n",
       "\n",
       "         V8        V9  ...       V21       V22       V23       V24       V25  \\\n",
       "0  0.098698  0.363787  ... -0.018307  0.277838 -0.110474  0.066928  0.128539   \n",
       "1  0.085102 -0.255425  ... -0.225775 -0.638672  0.101288 -0.339846  0.167170   \n",
       "2  0.247676 -1.514654  ...  0.247998  0.771679  0.909412 -0.689281 -0.327642   \n",
       "3  0.377436 -1.387024  ... -0.108300  0.005274 -0.190321 -1.175575  0.647376   \n",
       "4 -0.270533  0.817739  ... -0.009431  0.798278 -0.137458  0.141267 -0.206010   \n",
       "\n",
       "        V26       V27       V28  Amount  Class  \n",
       "0 -0.189115  0.133558 -0.021053  149.62      0  \n",
       "1  0.125895 -0.008983  0.014724    2.69      0  \n",
       "2 -0.139097 -0.055353 -0.059752  378.66      0  \n",
       "3 -0.221929  0.062723  0.061458  123.50      0  \n",
       "4  0.502292  0.219422  0.215153   69.99      0  \n",
       "\n",
       "[5 rows x 31 columns]"
      ]
     },
     "execution_count": 30,
     "metadata": {},
     "output_type": "execute_result"
    }
   ],
   "source": [
    "df = pd.read_csv('/Machine_Learning_Data/creditcard.csv')\n",
    "df.head()"
   ]
  },
  {
   "cell_type": "code",
   "execution_count": 31,
   "id": "94a6c932",
   "metadata": {},
   "outputs": [],
   "source": [
    "# creditcard 부정거래 탐지"
   ]
  },
  {
   "cell_type": "code",
   "execution_count": 32,
   "id": "153a83c2",
   "metadata": {
    "collapsed": true
   },
   "outputs": [
    {
     "name": "stdout",
     "output_type": "stream",
     "text": [
      "<class 'pandas.core.frame.DataFrame'>\n",
      "RangeIndex: 284807 entries, 0 to 284806\n",
      "Data columns (total 31 columns):\n",
      " #   Column  Non-Null Count   Dtype  \n",
      "---  ------  --------------   -----  \n",
      " 0   Time    284807 non-null  float64\n",
      " 1   V1      284807 non-null  float64\n",
      " 2   V2      284807 non-null  float64\n",
      " 3   V3      284807 non-null  float64\n",
      " 4   V4      284807 non-null  float64\n",
      " 5   V5      284807 non-null  float64\n",
      " 6   V6      284807 non-null  float64\n",
      " 7   V7      284807 non-null  float64\n",
      " 8   V8      284807 non-null  float64\n",
      " 9   V9      284807 non-null  float64\n",
      " 10  V10     284807 non-null  float64\n",
      " 11  V11     284807 non-null  float64\n",
      " 12  V12     284807 non-null  float64\n",
      " 13  V13     284807 non-null  float64\n",
      " 14  V14     284807 non-null  float64\n",
      " 15  V15     284807 non-null  float64\n",
      " 16  V16     284807 non-null  float64\n",
      " 17  V17     284807 non-null  float64\n",
      " 18  V18     284807 non-null  float64\n",
      " 19  V19     284807 non-null  float64\n",
      " 20  V20     284807 non-null  float64\n",
      " 21  V21     284807 non-null  float64\n",
      " 22  V22     284807 non-null  float64\n",
      " 23  V23     284807 non-null  float64\n",
      " 24  V24     284807 non-null  float64\n",
      " 25  V25     284807 non-null  float64\n",
      " 26  V26     284807 non-null  float64\n",
      " 27  V27     284807 non-null  float64\n",
      " 28  V28     284807 non-null  float64\n",
      " 29  Amount  284807 non-null  float64\n",
      " 30  Class   284807 non-null  int64  \n",
      "dtypes: float64(30), int64(1)\n",
      "memory usage: 67.4 MB\n"
     ]
    }
   ],
   "source": [
    "df.info()"
   ]
  },
  {
   "cell_type": "code",
   "execution_count": 33,
   "id": "323e2e73",
   "metadata": {},
   "outputs": [],
   "source": [
    "df.drop('Time', axis = 1, inplace = True)"
   ]
  },
  {
   "cell_type": "code",
   "execution_count": null,
   "id": "3338c31e",
   "metadata": {},
   "outputs": [],
   "source": []
  },
  {
   "cell_type": "code",
   "execution_count": 34,
   "id": "90cac181",
   "metadata": {},
   "outputs": [],
   "source": [
    "# x data, y data divide\n",
    "\n",
    "y = df['Class']\n",
    "x = df.drop('Class', axis = 1)"
   ]
  },
  {
   "cell_type": "code",
   "execution_count": 37,
   "id": "293782b0",
   "metadata": {},
   "outputs": [],
   "source": [
    "# train data, test data split\n",
    "\n",
    "from sklearn.model_selection import train_test_split\n",
    "\n",
    "x_train, x_test, y_train, y_test = train_test_split(x, y, test_size=0.3, random_state=111)"
   ]
  },
  {
   "cell_type": "code",
   "execution_count": 38,
   "id": "fab4a289",
   "metadata": {},
   "outputs": [
    {
     "data": {
      "text/plain": [
       "LogisticRegression()"
      ]
     },
     "execution_count": 38,
     "metadata": {},
     "output_type": "execute_result"
    }
   ],
   "source": [
    "# logisticregression으로 학습시키기\n",
    "\n",
    "from sklearn.linear_model import LogisticRegression\n",
    "\n",
    "log = LogisticRegression()\n",
    "\n"
   ]
  },
  {
   "cell_type": "code",
   "execution_count": 45,
   "id": "b4e4fd2e",
   "metadata": {},
   "outputs": [
    {
     "data": {
      "text/plain": [
       "LogisticRegression()"
      ]
     },
     "execution_count": 45,
     "metadata": {},
     "output_type": "execute_result"
    }
   ],
   "source": [
    "# algorithm train\n",
    "\n",
    "log.fit(x_train, y_train)"
   ]
  },
  {
   "cell_type": "code",
   "execution_count": null,
   "id": "058b3bb3",
   "metadata": {},
   "outputs": [],
   "source": [
    "# classification 예측, 평가 : classification_report, auc 값"
   ]
  },
  {
   "cell_type": "code",
   "execution_count": 54,
   "id": "7b0a4169",
   "metadata": {},
   "outputs": [
    {
     "data": {
      "text/plain": [
       "array([0, 0, 0, ..., 0, 0, 0], dtype=int64)"
      ]
     },
     "execution_count": 54,
     "metadata": {},
     "output_type": "execute_result"
    }
   ],
   "source": [
    "preds = log.predict(x_test)\n",
    "preds"
   ]
  },
  {
   "cell_type": "code",
   "execution_count": 56,
   "id": "b77d4462",
   "metadata": {},
   "outputs": [
    {
     "name": "stdout",
     "output_type": "stream",
     "text": [
      "              precision    recall  f1-score   support\n",
      "\n",
      "           0       1.00      1.00      1.00     85290\n",
      "           1       0.84      0.65      0.74       153\n",
      "\n",
      "    accuracy                           1.00     85443\n",
      "   macro avg       0.92      0.83      0.87     85443\n",
      "weighted avg       1.00      1.00      1.00     85443\n",
      "\n"
     ]
    }
   ],
   "source": [
    "from sklearn.metrics import classification_report, roc_auc_score\n",
    "\n",
    "print(classification_report(y_test, preds))"
   ]
  },
  {
   "cell_type": "code",
   "execution_count": 58,
   "id": "579571f7",
   "metadata": {},
   "outputs": [
    {
     "data": {
      "text/plain": [
       "array([2.67882518e-03, 2.96872428e-04, 1.15100235e-04, ...,\n",
       "       9.47471082e-05, 1.54390106e-03, 3.47146229e-04])"
      ]
     },
     "execution_count": 58,
     "metadata": {},
     "output_type": "execute_result"
    }
   ],
   "source": [
    "log.predict_proba(x_test)[:, 1]"
   ]
  },
  {
   "cell_type": "code",
   "execution_count": 59,
   "id": "ca69b008",
   "metadata": {},
   "outputs": [
    {
     "data": {
      "text/plain": [
       "0.9693729275819445"
      ]
     },
     "execution_count": 59,
     "metadata": {},
     "output_type": "execute_result"
    }
   ],
   "source": [
    "roc_auc_score(y_test, log.predict_proba(x_test)[:, 1] )"
   ]
  },
  {
   "cell_type": "code",
   "execution_count": null,
   "id": "12a4d98c",
   "metadata": {},
   "outputs": [],
   "source": []
  },
  {
   "cell_type": "code",
   "execution_count": null,
   "id": "dae78c5d",
   "metadata": {},
   "outputs": [],
   "source": []
  },
  {
   "cell_type": "code",
   "execution_count": null,
   "id": "5f860397",
   "metadata": {},
   "outputs": [],
   "source": []
  },
  {
   "cell_type": "code",
   "execution_count": 60,
   "id": "79aadd4f",
   "metadata": {},
   "outputs": [],
   "source": [
    "# LGBMClassifier를 통한 예측"
   ]
  },
  {
   "cell_type": "code",
   "execution_count": 61,
   "id": "967d9650",
   "metadata": {},
   "outputs": [],
   "source": [
    "from lightgbm import LGBMClassifier"
   ]
  },
  {
   "cell_type": "code",
   "execution_count": 62,
   "id": "b1bd9fe7",
   "metadata": {},
   "outputs": [
    {
     "data": {
      "text/plain": [
       "array([0, 0, 0, ..., 0, 0, 0], dtype=int64)"
      ]
     },
     "execution_count": 62,
     "metadata": {},
     "output_type": "execute_result"
    }
   ],
   "source": [
    "lgbm = LGBMClassifier()\n",
    "lgbm.fit(x_train, y_train)\n",
    "\n",
    "preds_lgbm = lgbm.predict(x_test)\n",
    "preds_lgbm"
   ]
  },
  {
   "cell_type": "code",
   "execution_count": 65,
   "id": "3466be6b",
   "metadata": {},
   "outputs": [
    {
     "data": {
      "text/plain": [
       "array([0.00000000e+000, 1.23655133e-143, 1.15507019e-006, ...,\n",
       "       1.35047689e-006, 6.38763981e-005, 3.92221780e-007])"
      ]
     },
     "execution_count": 65,
     "metadata": {},
     "output_type": "execute_result"
    }
   ],
   "source": [
    "lgbm.predict_proba(x_test)[:, 1]"
   ]
  },
  {
   "cell_type": "code",
   "execution_count": 66,
   "id": "55374edd",
   "metadata": {},
   "outputs": [
    {
     "data": {
      "text/plain": [
       "0.799150380439822"
      ]
     },
     "execution_count": 66,
     "metadata": {},
     "output_type": "execute_result"
    }
   ],
   "source": [
    "roc_auc_score(y_test, lgbm.predict_proba(x_test)[:, 1])"
   ]
  },
  {
   "cell_type": "code",
   "execution_count": null,
   "id": "54dfdf4a",
   "metadata": {},
   "outputs": [],
   "source": []
  },
  {
   "cell_type": "code",
   "execution_count": 67,
   "id": "dbed25e3",
   "metadata": {},
   "outputs": [],
   "source": [
    "# randomforest"
   ]
  },
  {
   "cell_type": "code",
   "execution_count": 70,
   "id": "28aae0cd",
   "metadata": {},
   "outputs": [],
   "source": [
    "from sklearn.ensemble import RandomForestClassifier"
   ]
  },
  {
   "cell_type": "code",
   "execution_count": 71,
   "id": "129c0f21",
   "metadata": {},
   "outputs": [
    {
     "data": {
      "text/plain": [
       "RandomForestClassifier()"
      ]
     },
     "execution_count": 71,
     "metadata": {},
     "output_type": "execute_result"
    }
   ],
   "source": [
    "rfc = RandomForestClassifier()\n",
    "rfc.fit(x_train, y_train)"
   ]
  },
  {
   "cell_type": "code",
   "execution_count": 72,
   "id": "b36a473a",
   "metadata": {},
   "outputs": [],
   "source": [
    "preds_rfc = rfc.predict(x_test)"
   ]
  },
  {
   "cell_type": "code",
   "execution_count": 73,
   "id": "7a3542be",
   "metadata": {},
   "outputs": [
    {
     "name": "stdout",
     "output_type": "stream",
     "text": [
      "              precision    recall  f1-score   support\n",
      "\n",
      "           0       1.00      1.00      1.00     85290\n",
      "           1       0.92      0.83      0.87       153\n",
      "\n",
      "    accuracy                           1.00     85443\n",
      "   macro avg       0.96      0.91      0.94     85443\n",
      "weighted avg       1.00      1.00      1.00     85443\n",
      "\n"
     ]
    }
   ],
   "source": [
    "print(classification_report(y_test, preds_rfc))"
   ]
  },
  {
   "cell_type": "code",
   "execution_count": 74,
   "id": "344ca185",
   "metadata": {},
   "outputs": [
    {
     "data": {
      "text/plain": [
       "array([0., 0., 0., ..., 0., 0., 0.])"
      ]
     },
     "execution_count": 74,
     "metadata": {},
     "output_type": "execute_result"
    }
   ],
   "source": [
    "rfc.predict_proba(x_test)[:, 1]"
   ]
  },
  {
   "cell_type": "code",
   "execution_count": 75,
   "id": "1006c3aa",
   "metadata": {},
   "outputs": [
    {
     "data": {
      "text/plain": [
       "0.9628897793533328"
      ]
     },
     "execution_count": 75,
     "metadata": {},
     "output_type": "execute_result"
    }
   ],
   "source": [
    "roc_auc_score(y_test, rfc.predict_proba(x_test)[:, 1])"
   ]
  },
  {
   "cell_type": "code",
   "execution_count": null,
   "id": "da372d71",
   "metadata": {},
   "outputs": [],
   "source": []
  },
  {
   "cell_type": "code",
   "execution_count": null,
   "id": "a5ea3d49",
   "metadata": {},
   "outputs": [],
   "source": []
  },
  {
   "cell_type": "code",
   "execution_count": 77,
   "id": "bc2b5829",
   "metadata": {},
   "outputs": [],
   "source": [
    "# scaling (Standard Scaler)"
   ]
  },
  {
   "cell_type": "code",
   "execution_count": 78,
   "id": "59ce87e5",
   "metadata": {},
   "outputs": [],
   "source": [
    "from sklearn.preprocessing import StandardScaler"
   ]
  },
  {
   "cell_type": "code",
   "execution_count": 81,
   "id": "c9d76a30",
   "metadata": {},
   "outputs": [
    {
     "data": {
      "text/plain": [
       "StandardScaler()"
      ]
     },
     "execution_count": 81,
     "metadata": {},
     "output_type": "execute_result"
    }
   ],
   "source": [
    "scaler = StandardScaler()\n",
    "scaler"
   ]
  },
  {
   "cell_type": "code",
   "execution_count": 82,
   "id": "6889db49",
   "metadata": {},
   "outputs": [
    {
     "data": {
      "text/plain": [
       "StandardScaler()"
      ]
     },
     "execution_count": 82,
     "metadata": {},
     "output_type": "execute_result"
    }
   ],
   "source": [
    "scaler.fit(x_train)"
   ]
  },
  {
   "cell_type": "code",
   "execution_count": 86,
   "id": "e74f42e7",
   "metadata": {},
   "outputs": [],
   "source": [
    "x_train_scaled = scaler.transform(x_train)\n",
    "x_test_scaled = scaler.transform(x_test)"
   ]
  },
  {
   "cell_type": "code",
   "execution_count": 88,
   "id": "ba37f5bb",
   "metadata": {},
   "outputs": [],
   "source": [
    "# scaling한 데이터를 기반으로 위의 세 모델을 생성하고 평가하시오"
   ]
  },
  {
   "cell_type": "code",
   "execution_count": 90,
   "id": "7f670148",
   "metadata": {},
   "outputs": [],
   "source": [
    "from sklearn.metrics import f1_score, roc_auc_score, accuracy_score"
   ]
  },
  {
   "cell_type": "code",
   "execution_count": 92,
   "id": "7b10b056",
   "metadata": {},
   "outputs": [],
   "source": [
    "log = LogisticRegression()\n",
    "lgbm = LGBMClassifier()\n",
    "rfc = RandomForestClassifier()\n",
    "\n",
    "log.fit(x_train_scaled, y_train)\n",
    "lgbm.fit(x_train_scaled, y_train)\n",
    "rfc.fit(x_train_scaled, y_train)\n",
    "\n",
    "preds_log = log.predict(x_test_scaled)\n",
    "preds_lgbm = log.predict(x_test_scaled)\n",
    "preds_rfc = log.predict(x_test_scaled)\n",
    "\n",
    "pro_log = log.predict_proba(x_test_scaled)\n",
    "pro_lgbm = log.predict_proba(x_test_scaled)\n",
    "pro_rfc = log.predict_proba(x_test_scaled)"
   ]
  },
  {
   "cell_type": "code",
   "execution_count": 93,
   "id": "14195f4d",
   "metadata": {},
   "outputs": [
    {
     "name": "stdout",
     "output_type": "stream",
     "text": [
      "log_f1 : 0.7364620938628158\n",
      "lgbm_f1 : 0.7364620938628158\n",
      "rfc_f1 : 0.7364620938628158\n"
     ]
    }
   ],
   "source": [
    "print('log_f1 :', f1_score(y_test, preds_log))\n",
    "print('lgbm_f1 :', f1_score(y_test, preds_lgbm))\n",
    "print('rfc_f1 :', f1_score(y_test, preds_rfc))"
   ]
  },
  {
   "cell_type": "code",
   "execution_count": 95,
   "id": "c431aa90",
   "metadata": {},
   "outputs": [
    {
     "name": "stdout",
     "output_type": "stream",
     "text": [
      "log_auc_score : 0.9921590850746052\n",
      "lgbm_auc_score : 0.9921590850746052\n",
      "rfc_auc_score : 0.9921590850746052\n"
     ]
    }
   ],
   "source": [
    "print('log_auc_score :', roc_auc_score(y_test, pro_log[:, 1]))\n",
    "print('lgbm_auc_score :', roc_auc_score(y_test, pro_lgbm[:, 1]))\n",
    "print('rfc_auc_score :', roc_auc_score(y_test, pro_rfc[:, 1]))"
   ]
  },
  {
   "cell_type": "code",
   "execution_count": null,
   "id": "aa5b2b85",
   "metadata": {},
   "outputs": [],
   "source": []
  },
  {
   "cell_type": "code",
   "execution_count": null,
   "id": "002534a0",
   "metadata": {},
   "outputs": [],
   "source": []
  },
  {
   "cell_type": "code",
   "execution_count": 97,
   "id": "48caad67",
   "metadata": {},
   "outputs": [],
   "source": [
    "# 이상치(outlier) 제거"
   ]
  },
  {
   "cell_type": "code",
   "execution_count": null,
   "id": "02d96ab4",
   "metadata": {},
   "outputs": [],
   "source": [
    "pd.DataFrame(x_train_scaled).plot(kind = 'bar')"
   ]
  },
  {
   "cell_type": "code",
   "execution_count": 127,
   "id": "ac17120d",
   "metadata": {},
   "outputs": [
    {
     "data": {
      "text/plain": [
       "<AxesSubplot:>"
      ]
     },
     "execution_count": 127,
     "metadata": {},
     "output_type": "execute_result"
    },
    {
     "data": {
      "image/png": "[encoded data removed]",
      "text/plain": [
       "<Figure size 432x288 with 1 Axes>"
      ]
     },
     "metadata": {
      "needs_background": "light"
     },
     "output_type": "display_data"
    }
   ],
   "source": [
    "df['V14'].plot(kind ='box')"
   ]
  },
  {
   "cell_type": "code",
   "execution_count": 128,
   "id": "f6474bbf",
   "metadata": {},
   "outputs": [
    {
     "data": {
      "text/plain": [
       "0.9187238616731425"
      ]
     },
     "execution_count": 128,
     "metadata": {},
     "output_type": "execute_result"
    }
   ],
   "source": [
    "qu25 = np.percentile(df['V14'].values, 25)\n",
    "qu75 = np.percentile(df['V14'].values, 75)\n",
    "iqr = qu75 - qu25\n",
    "iqr"
   ]
  },
  {
   "cell_type": "code",
   "execution_count": 129,
   "id": "58f59389",
   "metadata": {},
   "outputs": [],
   "source": [
    "low_limit = qu25 - iqr * 1.5\n",
    "high_limit = qu75 + iqr * 1.5"
   ]
  },
  {
   "cell_type": "code",
   "execution_count": 130,
   "id": "0de1c2a2",
   "metadata": {},
   "outputs": [],
   "source": [
    "df1 = df[(df['V14'] >= low_limit) & (df['V14'] <= high_limit)]"
   ]
  },
  {
   "cell_type": "code",
   "execution_count": 131,
   "id": "0516fce9",
   "metadata": {},
   "outputs": [],
   "source": [
    "x_train_scaled_no = x_train_scaled[(x_train_scaled[:, 13] <= high_limit) &\\\n",
    "                                   (x_train_scaled[:, 13] >= low_limit)]\n",
    "y_train_no = y_train[(x_train_scaled[:, 13] <= high_limit) &\\\n",
    "                                   (x_train_scaled[:, 13] >= low_limit)]"
   ]
  },
  {
   "cell_type": "code",
   "execution_count": null,
   "id": "f2cbca12",
   "metadata": {},
   "outputs": [],
   "source": []
  },
  {
   "cell_type": "code",
   "execution_count": 132,
   "id": "9cca3769",
   "metadata": {},
   "outputs": [
    {
     "name": "stdout",
     "output_type": "stream",
     "text": [
      "LogisticRegression\n",
      "f1_score : 0.7705882352941177\n",
      "roc_auc_score : 0.993446350283577\n",
      "---------------------------------\n",
      "LGBMClassifier\n",
      "f1_score : 0.0\n",
      "roc_auc_score : 0.4073729996160733\n",
      "---------------------------------\n",
      "RandomForestClassifier\n",
      "f1_score : 0.5943775100401607\n",
      "roc_auc_score : 0.9653891720443208\n",
      "---------------------------------\n"
     ]
    }
   ],
   "source": [
    "# 세 모델 평가 ~ f1_score, roc_auc_score를 계산\n",
    "\n",
    "log = LogisticRegression()\n",
    "lgbm = LGBMClassifier()\n",
    "frc = RandomForestClassifier()\n",
    "\n",
    "models = [log, lgbm, rfc]\n",
    "\n",
    "for m in models:\n",
    "    m.fit(x_train_scaled_no, y_train_no)\n",
    "    preds = m.predict(x_test_scaled)\n",
    "    proba = m.predict_proba(x_test_scaled)\n",
    "    \n",
    "    print(m.__class__.__name__)\n",
    "    print('f1_score :', f1_score(y_test, preds))\n",
    "    print('roc_auc_score :', roc_auc_score(y_test, proba[:, 1]))\n",
    "    print('---------------------------------')"
   ]
  },
  {
   "cell_type": "code",
   "execution_count": null,
   "id": "de787cb4",
   "metadata": {},
   "outputs": [],
   "source": []
  },
  {
   "cell_type": "code",
   "execution_count": null,
   "id": "381d2840",
   "metadata": {},
   "outputs": [],
   "source": []
  },
  {
   "cell_type": "code",
   "execution_count": 133,
   "id": "cf3616de",
   "metadata": {},
   "outputs": [],
   "source": [
    "# imbalanced dataset :smote"
   ]
  },
  {
   "cell_type": "code",
   "execution_count": 115,
   "id": "15b4056a",
   "metadata": {
    "collapsed": true
   },
   "outputs": [
    {
     "data": {
      "text/plain": [
       "0    188157\n",
       "1        49\n",
       "Name: Class, dtype: int64"
      ]
     },
     "execution_count": 115,
     "metadata": {},
     "output_type": "execute_result"
    }
   ],
   "source": [
    "y_train_no.value_counts()"
   ]
  },
  {
   "cell_type": "code",
   "execution_count": 116,
   "id": "6800aa14",
   "metadata": {
    "collapsed": true
   },
   "outputs": [
    {
     "data": {
      "text/plain": [
       "0    85290\n",
       "1      153\n",
       "Name: Class, dtype: int64"
      ]
     },
     "execution_count": 116,
     "metadata": {},
     "output_type": "execute_result"
    }
   ],
   "source": [
    "y_test.value_counts()"
   ]
  },
  {
   "cell_type": "code",
   "execution_count": 134,
   "id": "9e718ef5",
   "metadata": {},
   "outputs": [],
   "source": [
    "import imblearn"
   ]
  },
  {
   "cell_type": "code",
   "execution_count": 135,
   "id": "3571a2e1",
   "metadata": {},
   "outputs": [],
   "source": [
    "from imblearn.over_sampling import SMOTE"
   ]
  },
  {
   "cell_type": "code",
   "execution_count": 136,
   "id": "59850fd8",
   "metadata": {},
   "outputs": [],
   "source": [
    "smote = SMOTE(random_state=111)\n",
    "x_train_sm, y_train_sm = smote.fit_resample(x_train_scaled_no, y_train_no)"
   ]
  },
  {
   "cell_type": "code",
   "execution_count": 137,
   "id": "67660462",
   "metadata": {},
   "outputs": [
    {
     "data": {
      "text/plain": [
       "0    188157\n",
       "1    188157\n",
       "Name: Class, dtype: int64"
      ]
     },
     "execution_count": 137,
     "metadata": {},
     "output_type": "execute_result"
    }
   ],
   "source": [
    "y_train_sm.value_counts()"
   ]
  },
  {
   "cell_type": "code",
   "execution_count": 124,
   "id": "4493a6e5",
   "metadata": {},
   "outputs": [
    {
     "name": "stdout",
     "output_type": "stream",
     "text": [
      "LogisticRegression\n",
      "f1_score : 0.7705882352941177\n",
      "roc_auc_score : 0.993446350283577\n",
      "---------------------------------\n",
      "LGBMClassifier\n",
      "f1_score : 0.0\n",
      "roc_auc_score : 0.4073729996160733\n",
      "---------------------------------\n",
      "RandomForestClassifier\n",
      "f1_score : 0.5887096774193549\n",
      "roc_auc_score : 0.955080475149375\n",
      "---------------------------------\n"
     ]
    }
   ],
   "source": [
    "log = LogisticRegression()\n",
    "lgbm = LGBMClassifier()\n",
    "frc = RandomForestClassifier()\n",
    "\n",
    "models = [log, lgbm, rfc]\n",
    "\n",
    "for m in models:\n",
    "    m.fit(x_train_scaled_no, y_train_no)\n",
    "    preds = m.predict(x_test_scaled)\n",
    "    proba = m.predict_proba(x_test_scaled)\n",
    "    \n",
    "    print(m.__class__.__name__)\n",
    "    print('f1_score :', f1_score(y_test, preds))\n",
    "    print('roc_auc_score :', roc_auc_score(y_test, proba[:, 1]))\n",
    "    print('---------------------------------')"
   ]
  },
  {
   "cell_type": "code",
   "execution_count": null,
   "id": "04832f64",
   "metadata": {},
   "outputs": [],
   "source": []
  }
 ],
 "metadata": {
  "kernelspec": {
   "display_name": "Python 3 (ipykernel)",
   "language": "python",
   "name": "python3"
  },
  "language_info": {
   "codemirror_mode": {
    "name": "ipython",
    "version": 3
   },
   "file_extension": ".py",
   "mimetype": "text/x-python",
   "name": "python",
   "nbconvert_exporter": "python",
   "pygments_lexer": "ipython3",
   "version": "3.9.7"
  }
 },
 "nbformat": 4,
 "nbformat_minor": 5
}
