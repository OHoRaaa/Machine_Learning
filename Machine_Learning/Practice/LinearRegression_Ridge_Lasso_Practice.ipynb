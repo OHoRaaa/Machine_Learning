{
 "cells": [
  {
   "cell_type": "code",
   "execution_count": 36,
   "id": "bc4ef229",
   "metadata": {},
   "outputs": [],
   "source": [
    "import pandas as pd\n",
    "import numpy as np\n",
    "import matplotlib.pyplot as plt\n",
    "import seaborn as sns"
   ]
  },
  {
   "cell_type": "code",
   "execution_count": 37,
   "id": "f21f1efa",
   "metadata": {},
   "outputs": [],
   "source": [
    "import mglearn"
   ]
  },
  {
   "cell_type": "code",
   "execution_count": 38,
   "id": "15d0b764",
   "metadata": {},
   "outputs": [],
   "source": [
    "x, y = mglearn.datasets.load_extended_boston()"
   ]
  },
  {
   "cell_type": "code",
   "execution_count": 39,
   "id": "14a62eb7",
   "metadata": {},
   "outputs": [],
   "source": [
    "from sklearn.model_selection import train_test_split"
   ]
  },
  {
   "cell_type": "code",
   "execution_count": 50,
   "id": "b7c76568",
   "metadata": {},
   "outputs": [],
   "source": [
    "x_train, x_test, y_train, y_test = train_test_split(x, y, random_state = 111)"
   ]
  },
  {
   "cell_type": "code",
   "execution_count": 51,
   "id": "69c5bd50",
   "metadata": {},
   "outputs": [],
   "source": [
    "from sklearn.linear_model import LinearRegression"
   ]
  },
  {
   "cell_type": "code",
   "execution_count": 52,
   "id": "1045fcc2",
   "metadata": {},
   "outputs": [],
   "source": [
    "lr = LinearRegression()"
   ]
  },
  {
   "cell_type": "code",
   "execution_count": 53,
   "id": "21e7199f",
   "metadata": {},
   "outputs": [
    {
     "data": {
      "text/plain": [
       "LinearRegression()"
      ]
     },
     "execution_count": 53,
     "metadata": {},
     "output_type": "execute_result"
    }
   ],
   "source": [
    "lr.fit(x_train, y_train)"
   ]
  },
  {
   "cell_type": "code",
   "execution_count": 54,
   "id": "ac8de3b9",
   "metadata": {},
   "outputs": [
    {
     "data": {
      "text/plain": [
       "0.9271719885630869"
      ]
     },
     "execution_count": 54,
     "metadata": {},
     "output_type": "execute_result"
    }
   ],
   "source": [
    "lr.score(x_train, y_train)"
   ]
  },
  {
   "cell_type": "code",
   "execution_count": 55,
   "id": "3c2a44f6",
   "metadata": {},
   "outputs": [
    {
     "data": {
      "text/plain": [
       "0.8829557441679036"
      ]
     },
     "execution_count": 55,
     "metadata": {},
     "output_type": "execute_result"
    }
   ],
   "source": [
    "lr.score(x_test, y_test)"
   ]
  },
  {
   "cell_type": "code",
   "execution_count": 56,
   "id": "d98ba03b",
   "metadata": {},
   "outputs": [],
   "source": [
    "from sklearn.linear_model import Ridge, Lasso, ElasticNet"
   ]
  },
  {
   "cell_type": "code",
   "execution_count": 57,
   "id": "8d14243a",
   "metadata": {},
   "outputs": [
    {
     "name": "stdout",
     "output_type": "stream",
     "text": [
      "0.8859201655389021\n",
      "0.8940367198539404\n"
     ]
    }
   ],
   "source": [
    "rid = Ridge(alpha=0.2)\n",
    "rid.fit(x_train, y_train)\n",
    "\n",
    "print(rid.score(x_train, y_train))\n",
    "print(rid.score(x_test, y_test))"
   ]
  },
  {
   "cell_type": "code",
   "execution_count": 62,
   "id": "334b9747",
   "metadata": {},
   "outputs": [
    {
     "data": {
      "text/plain": [
       "[<matplotlib.lines.Line2D at 0x16024d59f40>]"
      ]
     },
     "execution_count": 62,
     "metadata": {},
     "output_type": "execute_result"
    },
    {
     "data": {
      "image/png": "[encoded data removed]",
      "text/plain": [
       "<Figure size 432x288 with 1 Axes>"
      ]
     },
     "metadata": {
      "needs_background": "light"
     },
     "output_type": "display_data"
    }
   ],
   "source": [
    "rid_score = []\n",
    "\n",
    "for i in np.arange(0.01, 0.2, 0.01):\n",
    "    rid = Ridge(alpha = i)\n",
    "    rid.fit(x_train, y_train)\n",
    "    rid_score.append(rid.score(x_test, y_test))\n",
    "\n",
    "plt.plot(np.arange(0.01, 0.2, 0.01), rid_score)\n",
    "    "
   ]
  },
  {
   "cell_type": "code",
   "execution_count": 65,
   "id": "4cf550f7",
   "metadata": {},
   "outputs": [
    {
     "name": "stderr",
     "output_type": "stream",
     "text": [
      "C:\\Users\\bitcamp\\anaconda3\\lib\\site-packages\\sklearn\\linear_model\\_coordinate_descent.py:530: ConvergenceWarning: Objective did not converge. You might want to increase the number of iterations. Duality gap: 1228.2419753217412, tolerance: 3.002710580474934\n",
      "  model = cd_fast.enet_coordinate_descent(\n",
      "C:\\Users\\bitcamp\\anaconda3\\lib\\site-packages\\sklearn\\linear_model\\_coordinate_descent.py:530: ConvergenceWarning: Objective did not converge. You might want to increase the number of iterations. Duality gap: 954.2633830910238, tolerance: 3.002710580474934\n",
      "  model = cd_fast.enet_coordinate_descent(\n",
      "C:\\Users\\bitcamp\\anaconda3\\lib\\site-packages\\sklearn\\linear_model\\_coordinate_descent.py:530: ConvergenceWarning: Objective did not converge. You might want to increase the number of iterations. Duality gap: 1100.5532928297991, tolerance: 3.002710580474934\n",
      "  model = cd_fast.enet_coordinate_descent(\n",
      "C:\\Users\\bitcamp\\anaconda3\\lib\\site-packages\\sklearn\\linear_model\\_coordinate_descent.py:530: ConvergenceWarning: Objective did not converge. You might want to increase the number of iterations. Duality gap: 718.7531707953929, tolerance: 3.002710580474934\n",
      "  model = cd_fast.enet_coordinate_descent(\n",
      "C:\\Users\\bitcamp\\anaconda3\\lib\\site-packages\\sklearn\\linear_model\\_coordinate_descent.py:530: ConvergenceWarning: Objective did not converge. You might want to increase the number of iterations. Duality gap: 298.4179162424134, tolerance: 3.002710580474934\n",
      "  model = cd_fast.enet_coordinate_descent(\n",
      "C:\\Users\\bitcamp\\anaconda3\\lib\\site-packages\\sklearn\\linear_model\\_coordinate_descent.py:530: ConvergenceWarning: Objective did not converge. You might want to increase the number of iterations. Duality gap: 237.08279701365382, tolerance: 3.002710580474934\n",
      "  model = cd_fast.enet_coordinate_descent(\n",
      "C:\\Users\\bitcamp\\anaconda3\\lib\\site-packages\\sklearn\\linear_model\\_coordinate_descent.py:530: ConvergenceWarning: Objective did not converge. You might want to increase the number of iterations. Duality gap: 227.3103887111747, tolerance: 3.002710580474934\n",
      "  model = cd_fast.enet_coordinate_descent(\n",
      "C:\\Users\\bitcamp\\anaconda3\\lib\\site-packages\\sklearn\\linear_model\\_coordinate_descent.py:530: ConvergenceWarning: Objective did not converge. You might want to increase the number of iterations. Duality gap: 159.4166333330868, tolerance: 3.002710580474934\n",
      "  model = cd_fast.enet_coordinate_descent(\n",
      "C:\\Users\\bitcamp\\anaconda3\\lib\\site-packages\\sklearn\\linear_model\\_coordinate_descent.py:530: ConvergenceWarning: Objective did not converge. You might want to increase the number of iterations. Duality gap: 88.94771579857843, tolerance: 3.002710580474934\n",
      "  model = cd_fast.enet_coordinate_descent(\n",
      "C:\\Users\\bitcamp\\anaconda3\\lib\\site-packages\\sklearn\\linear_model\\_coordinate_descent.py:530: ConvergenceWarning: Objective did not converge. You might want to increase the number of iterations. Duality gap: 75.16997236716497, tolerance: 3.002710580474934\n",
      "  model = cd_fast.enet_coordinate_descent(\n"
     ]
    },
    {
     "data": {
      "text/plain": [
       "[<matplotlib.lines.Line2D at 0x16024f7fcd0>]"
      ]
     },
     "execution_count": 65,
     "metadata": {},
     "output_type": "execute_result"
    },
    {
     "data": {
      "image/png": "[encoded data removed]",
      "text/plain": [
       "<Figure size 432x288 with 1 Axes>"
      ]
     },
     "metadata": {
      "needs_background": "light"
     },
     "output_type": "display_data"
    }
   ],
   "source": [
    "lasso_score = []\n",
    "\n",
    "for i in np.arange(0.0001, 0.01, 0.001):\n",
    "    las = Lasso(alpha=i)\n",
    "    las.fit(x_train, y_train)\n",
    "    lasso_score.append(las.score(x_test, y_test))\n",
    "\n",
    "plt.plot(np.arange(0.0001, 0.01, 0.001), lasso_score)"
   ]
  },
  {
   "cell_type": "code",
   "execution_count": 66,
   "id": "d04f99d8",
   "metadata": {},
   "outputs": [
    {
     "name": "stderr",
     "output_type": "stream",
     "text": [
      "C:\\Users\\bitcamp\\anaconda3\\lib\\site-packages\\sklearn\\linear_model\\_coordinate_descent.py:530: ConvergenceWarning: Objective did not converge. You might want to increase the number of iterations. Duality gap: 1521.4042650563197, tolerance: 3.002710580474934\n",
      "  model = cd_fast.enet_coordinate_descent(\n",
      "C:\\Users\\bitcamp\\anaconda3\\lib\\site-packages\\sklearn\\linear_model\\_coordinate_descent.py:530: ConvergenceWarning: Objective did not converge. You might want to increase the number of iterations. Duality gap: 1755.8120242928017, tolerance: 3.002710580474934\n",
      "  model = cd_fast.enet_coordinate_descent(\n",
      "C:\\Users\\bitcamp\\anaconda3\\lib\\site-packages\\sklearn\\linear_model\\_coordinate_descent.py:530: ConvergenceWarning: Objective did not converge. You might want to increase the number of iterations. Duality gap: 1166.0879337110532, tolerance: 3.002710580474934\n",
      "  model = cd_fast.enet_coordinate_descent(\n",
      "C:\\Users\\bitcamp\\anaconda3\\lib\\site-packages\\sklearn\\linear_model\\_coordinate_descent.py:530: ConvergenceWarning: Objective did not converge. You might want to increase the number of iterations. Duality gap: 1280.2227194155535, tolerance: 3.002710580474934\n",
      "  model = cd_fast.enet_coordinate_descent(\n",
      "C:\\Users\\bitcamp\\anaconda3\\lib\\site-packages\\sklearn\\linear_model\\_coordinate_descent.py:530: ConvergenceWarning: Objective did not converge. You might want to increase the number of iterations. Duality gap: 402.7214278421061, tolerance: 3.002710580474934\n",
      "  model = cd_fast.enet_coordinate_descent(\n",
      "C:\\Users\\bitcamp\\anaconda3\\lib\\site-packages\\sklearn\\linear_model\\_coordinate_descent.py:530: ConvergenceWarning: Objective did not converge. You might want to increase the number of iterations. Duality gap: 246.529770885566, tolerance: 3.002710580474934\n",
      "  model = cd_fast.enet_coordinate_descent(\n",
      "C:\\Users\\bitcamp\\anaconda3\\lib\\site-packages\\sklearn\\linear_model\\_coordinate_descent.py:530: ConvergenceWarning: Objective did not converge. You might want to increase the number of iterations. Duality gap: 39.34195580404685, tolerance: 3.002710580474934\n",
      "  model = cd_fast.enet_coordinate_descent(\n",
      "C:\\Users\\bitcamp\\anaconda3\\lib\\site-packages\\sklearn\\linear_model\\_coordinate_descent.py:530: ConvergenceWarning: Objective did not converge. You might want to increase the number of iterations. Duality gap: 11.647605052750805, tolerance: 3.002710580474934\n",
      "  model = cd_fast.enet_coordinate_descent(\n",
      "C:\\Users\\bitcamp\\anaconda3\\lib\\site-packages\\sklearn\\linear_model\\_coordinate_descent.py:530: ConvergenceWarning: Objective did not converge. You might want to increase the number of iterations. Duality gap: 9.685444397954598, tolerance: 3.002710580474934\n",
      "  model = cd_fast.enet_coordinate_descent(\n"
     ]
    },
    {
     "data": {
      "text/plain": [
       "[<matplotlib.lines.Line2D at 0x16024fe4730>]"
      ]
     },
     "execution_count": 66,
     "metadata": {},
     "output_type": "execute_result"
    },
    {
     "data": {
      "image/png": "[encoded data removed]",
      "text/plain": [
       "<Figure size 432x288 with 1 Axes>"
      ]
     },
     "metadata": {
      "needs_background": "light"
     },
     "output_type": "display_data"
    }
   ],
   "source": [
    "ela_score = []\n",
    "\n",
    "for i in np.arange(0.0001, 0.01, 0.001):\n",
    "    ela = ElasticNet(alpha=i)\n",
    "    ela.fit(x_train, y_train)\n",
    "    ela_score.append(ela.score(x_test, y_test))\n",
    "\n",
    "plt.plot(np.arange(0.0001, 0.01, 0.001), ela_score)"
   ]
  },
  {
   "cell_type": "code",
   "execution_count": null,
   "id": "11ac5a48",
   "metadata": {},
   "outputs": [],
   "source": []
  }
 ],
 "metadata": {
  "kernelspec": {
   "display_name": "Python 3 (ipykernel)",
   "language": "python",
   "name": "python3"
  },
  "language_info": {
   "codemirror_mode": {
    "name": "ipython",
    "version": 3
   },
   "file_extension": ".py",
   "mimetype": "text/x-python",
   "name": "python",
   "nbconvert_exporter": "python",
   "pygments_lexer": "ipython3",
   "version": "3.9.7"
  }
 },
 "nbformat": 4,
 "nbformat_minor": 5
}
