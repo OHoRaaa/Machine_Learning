{
 "cells": [
  {
   "cell_type": "code",
   "execution_count": 36,
   "id": "d1a17de6",
   "metadata": {},
   "outputs": [],
   "source": [
    "# Machine Learning\n",
    "\n",
    "# Supervised Learning(지도학습) - 예측하는 모델, 예측대상(y, target, Label)\n",
    "       # 1. Linear Algorithm(회귀분석) - 예측대상이 연속값(continuous)\n",
    "       # 2. Classification Algorithm(분류분석) - 예측대상이 불연속값(discrete) - binary, mulit\n",
    "# Unsupervised Learning(비지도학습) - 예측하지 않음\n",
    "       # 1. clustering(군집분석) - 유사한 특성을 갖는 데이터끼리 묶는다"
   ]
  },
  {
   "cell_type": "code",
   "execution_count": null,
   "id": "33b909da",
   "metadata": {},
   "outputs": [],
   "source": [
    "import pandas as pd\n",
    "import numpy as np\n",
    "import matplotlib.pyplot as plt\n",
    "import seaborn as sns\n",
    "\n",
    "from sklearn.linear_model import LinearRegression\n",
    "from sklearn.model_selection import train_test_split\n",
    "from sklearn.metrics import r2_score"
   ]
  },
  {
   "cell_type": "code",
   "execution_count": null,
   "id": "1c639d0c",
   "metadata": {},
   "outputs": [],
   "source": []
  },
  {
   "cell_type": "code",
   "execution_count": 12,
   "id": "8c3f3980",
   "metadata": {},
   "outputs": [
    {
     "data": {
      "text/html": [
       "<div>\n",
       "<style scoped>\n",
       "    .dataframe tbody tr th:only-of-type {\n",
       "        vertical-align: middle;\n",
       "    }\n",
       "\n",
       "    .dataframe tbody tr th {\n",
       "        vertical-align: top;\n",
       "    }\n",
       "\n",
       "    .dataframe thead th {\n",
       "        text-align: right;\n",
       "    }\n",
       "</style>\n",
       "<table border=\"1\" class=\"dataframe\">\n",
       "  <thead>\n",
       "    <tr style=\"text-align: right;\">\n",
       "      <th></th>\n",
       "      <th>Email</th>\n",
       "      <th>Address</th>\n",
       "      <th>Avatar</th>\n",
       "      <th>Avg. Session Length</th>\n",
       "      <th>Time on App</th>\n",
       "      <th>Time on Website</th>\n",
       "      <th>Length of Membership</th>\n",
       "      <th>Yearly Amount Spent</th>\n",
       "    </tr>\n",
       "  </thead>\n",
       "  <tbody>\n",
       "    <tr>\n",
       "      <th>0</th>\n",
       "      <td>mstephenson@fernandez.com</td>\n",
       "      <td>835 Frank Tunnel\\nWrightmouth, MI 82180-9605</td>\n",
       "      <td>Violet</td>\n",
       "      <td>34.497268</td>\n",
       "      <td>12.655651</td>\n",
       "      <td>39.577668</td>\n",
       "      <td>4.082621</td>\n",
       "      <td>587.951054</td>\n",
       "    </tr>\n",
       "    <tr>\n",
       "      <th>1</th>\n",
       "      <td>hduke@hotmail.com</td>\n",
       "      <td>4547 Archer Common\\nDiazchester, CA 06566-8576</td>\n",
       "      <td>DarkGreen</td>\n",
       "      <td>31.926272</td>\n",
       "      <td>11.109461</td>\n",
       "      <td>37.268959</td>\n",
       "      <td>2.664034</td>\n",
       "      <td>392.204933</td>\n",
       "    </tr>\n",
       "    <tr>\n",
       "      <th>2</th>\n",
       "      <td>pallen@yahoo.com</td>\n",
       "      <td>24645 Valerie Unions Suite 582\\nCobbborough, D...</td>\n",
       "      <td>Bisque</td>\n",
       "      <td>33.000915</td>\n",
       "      <td>11.330278</td>\n",
       "      <td>37.110597</td>\n",
       "      <td>4.104543</td>\n",
       "      <td>487.547505</td>\n",
       "    </tr>\n",
       "    <tr>\n",
       "      <th>3</th>\n",
       "      <td>riverarebecca@gmail.com</td>\n",
       "      <td>1414 David Throughway\\nPort Jason, OH 22070-1220</td>\n",
       "      <td>SaddleBrown</td>\n",
       "      <td>34.305557</td>\n",
       "      <td>13.717514</td>\n",
       "      <td>36.721283</td>\n",
       "      <td>3.120179</td>\n",
       "      <td>581.852344</td>\n",
       "    </tr>\n",
       "    <tr>\n",
       "      <th>4</th>\n",
       "      <td>mstephens@davidson-herman.com</td>\n",
       "      <td>14023 Rodriguez Passage\\nPort Jacobville, PR 3...</td>\n",
       "      <td>MediumAquaMarine</td>\n",
       "      <td>33.330673</td>\n",
       "      <td>12.795189</td>\n",
       "      <td>37.536653</td>\n",
       "      <td>4.446308</td>\n",
       "      <td>599.406092</td>\n",
       "    </tr>\n",
       "  </tbody>\n",
       "</table>\n",
       "</div>"
      ],
      "text/plain": [
       "                           Email  \\\n",
       "0      mstephenson@fernandez.com   \n",
       "1              hduke@hotmail.com   \n",
       "2               pallen@yahoo.com   \n",
       "3        riverarebecca@gmail.com   \n",
       "4  mstephens@davidson-herman.com   \n",
       "\n",
       "                                             Address            Avatar  \\\n",
       "0       835 Frank Tunnel\\nWrightmouth, MI 82180-9605            Violet   \n",
       "1     4547 Archer Common\\nDiazchester, CA 06566-8576         DarkGreen   \n",
       "2  24645 Valerie Unions Suite 582\\nCobbborough, D...            Bisque   \n",
       "3   1414 David Throughway\\nPort Jason, OH 22070-1220       SaddleBrown   \n",
       "4  14023 Rodriguez Passage\\nPort Jacobville, PR 3...  MediumAquaMarine   \n",
       "\n",
       "   Avg. Session Length  Time on App  Time on Website  Length of Membership  \\\n",
       "0            34.497268    12.655651        39.577668              4.082621   \n",
       "1            31.926272    11.109461        37.268959              2.664034   \n",
       "2            33.000915    11.330278        37.110597              4.104543   \n",
       "3            34.305557    13.717514        36.721283              3.120179   \n",
       "4            33.330673    12.795189        37.536653              4.446308   \n",
       "\n",
       "   Yearly Amount Spent  \n",
       "0           587.951054  \n",
       "1           392.204933  \n",
       "2           487.547505  \n",
       "3           581.852344  \n",
       "4           599.406092  "
      ]
     },
     "execution_count": 12,
     "metadata": {},
     "output_type": "execute_result"
    }
   ],
   "source": [
    "df = pd.read_csv('./ml_source_files/Ecommerce Customers.txt')\n",
    "df.head()"
   ]
  },
  {
   "cell_type": "code",
   "execution_count": 18,
   "id": "62a15ca5",
   "metadata": {},
   "outputs": [],
   "source": [
    "# 연간 지출금액을 예측하는 회귀모델"
   ]
  },
  {
   "cell_type": "code",
   "execution_count": null,
   "id": "8700c58f",
   "metadata": {},
   "outputs": [],
   "source": [
    "y = df['Yearly Amount Spent']                            ## 예측 데이터"
   ]
  },
  {
   "cell_type": "code",
   "execution_count": 23,
   "id": "43579e95",
   "metadata": {},
   "outputs": [],
   "source": [
    "x = df.drop(['Email', 'Address', 'Avatar', 'Yearly Amount Spent'], axis = 1)  "
   ]
  },
  {
   "cell_type": "code",
   "execution_count": 24,
   "id": "ebc00ce1",
   "metadata": {},
   "outputs": [],
   "source": [
    "# train test로 분리\n",
    "# train - 학습용 데이터\n",
    "# test - 모델을 평가 시 사용할 데이터 (모델을 테스트할 때는 모델을 훈련할 때 이용한\n",
    "# 데이터가 포함되면 안됨)"
   ]
  },
  {
   "cell_type": "code",
   "execution_count": 25,
   "id": "144225c0",
   "metadata": {},
   "outputs": [],
   "source": [
    "# x_train = x[:300]\n",
    "# x_test = x[300:] \n",
    "\n",
    "# y_train = y[:300]\n",
    "# y_test = y[300:]"
   ]
  },
  {
   "cell_type": "code",
   "execution_count": 26,
   "id": "62a56765",
   "metadata": {},
   "outputs": [],
   "source": [
    "x_train, x_test, y_train, y_test = train_test_split(x,y, test_size = 0.2, random_state = 111)  # shuffle"
   ]
  },
  {
   "cell_type": "code",
   "execution_count": 27,
   "id": "660013e8",
   "metadata": {},
   "outputs": [],
   "source": [
    "# LinearRegression Algorithm을 import"
   ]
  },
  {
   "cell_type": "code",
   "execution_count": 28,
   "id": "36059efd",
   "metadata": {},
   "outputs": [],
   "source": [
    "lr = LinearRegression()"
   ]
  },
  {
   "cell_type": "code",
   "execution_count": 29,
   "id": "dc44e7b9",
   "metadata": {},
   "outputs": [],
   "source": [
    "# Algoritm ( = machine model) train => fit()"
   ]
  },
  {
   "cell_type": "code",
   "execution_count": 30,
   "id": "c49dbe88",
   "metadata": {},
   "outputs": [
    {
     "data": {
      "text/plain": [
       "LinearRegression()"
      ]
     },
     "execution_count": 30,
     "metadata": {},
     "output_type": "execute_result"
    }
   ],
   "source": [
    "lr.fit(x_train, y_train)"
   ]
  },
  {
   "cell_type": "code",
   "execution_count": 31,
   "id": "05edab6e",
   "metadata": {},
   "outputs": [],
   "source": [
    "# predict                 "
   ]
  },
  {
   "cell_type": "code",
   "execution_count": 34,
   "id": "871d8cf8",
   "metadata": {},
   "outputs": [
    {
     "data": {
      "text/plain": [
       "array([589.52145964, 449.63900424, 547.82498363, 435.96358626,\n",
       "       516.68062594, 656.70862985, 482.12471604, 500.74397724,\n",
       "       523.55894444, 460.88673205, 543.10720417, 427.3607424 ,\n",
       "       545.48373245, 511.86650309, 390.56061453, 503.79034741,\n",
       "       437.70910695, 392.49543843, 609.39698152, 513.47592204,\n",
       "       412.4019026 , 458.92508507, 556.80185749, 552.85351837,\n",
       "       570.01492483, 609.82384561, 470.84728359, 599.09965226,\n",
       "       398.11837843, 288.43150881, 599.2221111 , 507.45604806,\n",
       "       256.32822976, 472.93402313, 418.66406807, 498.65572273,\n",
       "       433.48507663, 511.75979823, 425.25604665, 424.19475651,\n",
       "       451.01333725, 375.84659588, 394.53260862, 539.84290054,\n",
       "       684.02504064, 374.19424441, 535.4165198 , 593.37847918,\n",
       "       494.10231045, 519.09649673, 702.52737349, 415.15634836,\n",
       "       448.75026788, 563.0000242 , 637.961218  , 576.39082098,\n",
       "       599.20713475, 553.46752633, 481.62941888, 425.70113196,\n",
       "       572.24167229, 402.41029126, 516.5883543 , 569.52330824,\n",
       "       508.92129293, 315.8985367 , 474.25609341, 438.53240512,\n",
       "       481.37682402, 461.70535105, 587.64642958, 426.47052598,\n",
       "       589.27734169, 588.64822471, 572.14631489, 358.09416487,\n",
       "       478.40317139, 547.56214638, 479.58961145, 647.94421374,\n",
       "       503.62315134, 446.20490479, 548.14238198, 482.64810437,\n",
       "       515.38826472, 558.07731451, 542.75361453, 457.07069927,\n",
       "       531.8006526 , 552.19796834, 481.22403032, 764.88664549,\n",
       "       507.31555132, 577.0079752 , 491.08954266, 500.33584333,\n",
       "       511.4735498 , 478.88737304, 536.47421044, 471.48623544])"
      ]
     },
     "execution_count": 34,
     "metadata": {},
     "output_type": "execute_result"
    }
   ],
   "source": [
    "preds = lr.predict(x_test)\n",
    "preds"
   ]
  },
  {
   "cell_type": "code",
   "execution_count": 35,
   "id": "a7e72b6f",
   "metadata": {},
   "outputs": [],
   "source": [
    "# model evaluation"
   ]
  },
  {
   "cell_type": "code",
   "execution_count": 37,
   "id": "83f44e20",
   "metadata": {},
   "outputs": [
    {
     "data": {
      "text/plain": [
       "0.9850895763407301"
      ]
     },
     "execution_count": 37,
     "metadata": {},
     "output_type": "execute_result"
    }
   ],
   "source": [
    "r2_score(preds, y_test)         ## 회귀모델의 설명력 : ssr/sst\n",
    "                                ## r2score가 클 수록 회귀모델의 오차가 적다"
   ]
  },
  {
   "cell_type": "code",
   "execution_count": null,
   "id": "e99bd139",
   "metadata": {},
   "outputs": [],
   "source": []
  },
  {
   "cell_type": "code",
   "execution_count": 38,
   "id": "090f52d4",
   "metadata": {},
   "outputs": [],
   "source": [
    "from sklearn.metrics import mean_squared_error, mean_absolute_error"
   ]
  },
  {
   "cell_type": "code",
   "execution_count": 39,
   "id": "65da6896",
   "metadata": {},
   "outputs": [],
   "source": [
    "# MSE : sig(y - y_hat) ** 2\n",
    "# RMSE : np.sqrt(sig(y - y_hat)**2)\n",
    "# MAE : sig(abs(y - y_hat))"
   ]
  },
  {
   "cell_type": "code",
   "execution_count": 43,
   "id": "d391300a",
   "metadata": {},
   "outputs": [
    {
     "name": "stdout",
     "output_type": "stream",
     "text": [
      "MSE : 105.36217783099016\n",
      "RMSE : 10.264608021302625\n",
      "MAE : 8.101929980887277\n"
     ]
    }
   ],
   "source": [
    "print('MSE :', mean_squared_error(y_test, preds))\n",
    "print('RMSE :', np.sqrt(mean_squared_error(y_test, preds)))\n",
    "print('MAE :',mean_absolute_error(y_test, preds) )"
   ]
  },
  {
   "cell_type": "code",
   "execution_count": null,
   "id": "d006d144",
   "metadata": {},
   "outputs": [],
   "source": []
  },
  {
   "cell_type": "code",
   "execution_count": null,
   "id": "e74fabfd",
   "metadata": {},
   "outputs": [],
   "source": []
  },
  {
   "cell_type": "code",
   "execution_count": null,
   "id": "9e2b51b2",
   "metadata": {},
   "outputs": [],
   "source": []
  },
  {
   "cell_type": "code",
   "execution_count": null,
   "id": "ec57ecc8",
   "metadata": {},
   "outputs": [],
   "source": []
  },
  {
   "cell_type": "code",
   "execution_count": null,
   "id": "6f5e9f37",
   "metadata": {},
   "outputs": [],
   "source": []
  },
  {
   "cell_type": "code",
   "execution_count": null,
   "id": "522f6f57",
   "metadata": {},
   "outputs": [],
   "source": []
  },
  {
   "cell_type": "code",
   "execution_count": null,
   "id": "83443296",
   "metadata": {},
   "outputs": [],
   "source": []
  },
  {
   "cell_type": "code",
   "execution_count": null,
   "id": "7eb6a8dc",
   "metadata": {},
   "outputs": [],
   "source": []
  },
  {
   "cell_type": "code",
   "execution_count": null,
   "id": "f28bdebf",
   "metadata": {},
   "outputs": [],
   "source": []
  },
  {
   "cell_type": "code",
   "execution_count": null,
   "id": "39fef630",
   "metadata": {},
   "outputs": [],
   "source": []
  },
  {
   "cell_type": "code",
   "execution_count": null,
   "id": "c6688036",
   "metadata": {},
   "outputs": [],
   "source": []
  },
  {
   "cell_type": "code",
   "execution_count": null,
   "id": "66f74f3b",
   "metadata": {},
   "outputs": [],
   "source": []
  },
  {
   "cell_type": "code",
   "execution_count": null,
   "id": "eebb3f2e",
   "metadata": {},
   "outputs": [],
   "source": []
  },
  {
   "cell_type": "code",
   "execution_count": null,
   "id": "b06a4428",
   "metadata": {},
   "outputs": [],
   "source": []
  },
  {
   "cell_type": "code",
   "execution_count": null,
   "id": "9109494b",
   "metadata": {},
   "outputs": [],
   "source": []
  },
  {
   "cell_type": "code",
   "execution_count": null,
   "id": "15eabeef",
   "metadata": {},
   "outputs": [],
   "source": []
  },
  {
   "cell_type": "code",
   "execution_count": null,
   "id": "0cb2d65d",
   "metadata": {},
   "outputs": [],
   "source": []
  },
  {
   "cell_type": "code",
   "execution_count": null,
   "id": "5d0626fc",
   "metadata": {},
   "outputs": [],
   "source": []
  },
  {
   "cell_type": "code",
   "execution_count": null,
   "id": "efdf6b02",
   "metadata": {},
   "outputs": [],
   "source": []
  },
  {
   "cell_type": "code",
   "execution_count": null,
   "id": "ac2be0e3",
   "metadata": {},
   "outputs": [],
   "source": []
  },
  {
   "cell_type": "code",
   "execution_count": null,
   "id": "553ee555",
   "metadata": {},
   "outputs": [],
   "source": []
  },
  {
   "cell_type": "code",
   "execution_count": null,
   "id": "2762d0f3",
   "metadata": {},
   "outputs": [],
   "source": []
  },
  {
   "cell_type": "code",
   "execution_count": null,
   "id": "1061f72b",
   "metadata": {},
   "outputs": [],
   "source": []
  },
  {
   "cell_type": "code",
   "execution_count": null,
   "id": "ad83c05f",
   "metadata": {},
   "outputs": [],
   "source": []
  },
  {
   "cell_type": "code",
   "execution_count": null,
   "id": "b5a48412",
   "metadata": {},
   "outputs": [],
   "source": []
  },
  {
   "cell_type": "code",
   "execution_count": null,
   "id": "a65c3fec",
   "metadata": {},
   "outputs": [],
   "source": []
  },
  {
   "cell_type": "code",
   "execution_count": null,
   "id": "b558b907",
   "metadata": {},
   "outputs": [],
   "source": []
  },
  {
   "cell_type": "code",
   "execution_count": null,
   "id": "4e22fc85",
   "metadata": {},
   "outputs": [],
   "source": []
  },
  {
   "cell_type": "code",
   "execution_count": null,
   "id": "acb20856",
   "metadata": {},
   "outputs": [],
   "source": []
  },
  {
   "cell_type": "code",
   "execution_count": null,
   "id": "14663197",
   "metadata": {},
   "outputs": [],
   "source": []
  },
  {
   "cell_type": "code",
   "execution_count": null,
   "id": "0f83f95d",
   "metadata": {},
   "outputs": [],
   "source": []
  },
  {
   "cell_type": "code",
   "execution_count": null,
   "id": "df51319e",
   "metadata": {},
   "outputs": [],
   "source": []
  }
 ],
 "metadata": {
  "kernelspec": {
   "display_name": "Python 3 (ipykernel)",
   "language": "python",
   "name": "python3"
  },
  "language_info": {
   "codemirror_mode": {
    "name": "ipython",
    "version": 3
   },
   "file_extension": ".py",
   "mimetype": "text/x-python",
   "name": "python",
   "nbconvert_exporter": "python",
   "pygments_lexer": "ipython3",
   "version": "3.9.7"
  }
 },
 "nbformat": 4,
 "nbformat_minor": 5
}
