{
 "cells": [
  {
   "cell_type": "code",
   "execution_count": 1,
   "id": "b54e7a52",
   "metadata": {},
   "outputs": [],
   "source": [
    "import pandas as pd\n",
    "import numpy as np\n",
    "import matplotlib.pyplot as plt\n",
    "import seaborn as sns"
   ]
  },
  {
   "cell_type": "code",
   "execution_count": null,
   "id": "70fa23b8",
   "metadata": {},
   "outputs": [],
   "source": []
  },
  {
   "cell_type": "code",
   "execution_count": 2,
   "id": "c644467e",
   "metadata": {},
   "outputs": [],
   "source": [
    "from sklearn.datasets import load_digits\n",
    "from sklearn.model_selection import train_test_split\n",
    "from sklearn import datasets\n",
    "import mglearn\n",
    "from IPython.display import display"
   ]
  },
  {
   "cell_type": "code",
   "execution_count": 3,
   "id": "b860befd",
   "metadata": {},
   "outputs": [],
   "source": [
    "digits = load_digits()"
   ]
  },
  {
   "cell_type": "code",
   "execution_count": 5,
   "id": "9eb6f336",
   "metadata": {},
   "outputs": [],
   "source": [
    "x = digits.data\n",
    "y = digits.target"
   ]
  },
  {
   "cell_type": "code",
   "execution_count": 6,
   "id": "60f746b5",
   "metadata": {},
   "outputs": [
    {
     "data": {
      "text/plain": [
       "(1797, 64)"
      ]
     },
     "execution_count": 6,
     "metadata": {},
     "output_type": "execute_result"
    }
   ],
   "source": [
    "x.shape"
   ]
  },
  {
   "cell_type": "code",
   "execution_count": 7,
   "id": "6f401bdd",
   "metadata": {},
   "outputs": [
    {
     "data": {
      "text/plain": [
       "(1797,)"
      ]
     },
     "execution_count": 7,
     "metadata": {},
     "output_type": "execute_result"
    }
   ],
   "source": [
    "y.shape"
   ]
  },
  {
   "cell_type": "code",
   "execution_count": 8,
   "id": "3b78f252",
   "metadata": {},
   "outputs": [
    {
     "data": {
      "text/plain": [
       "array([[ 0.,  0.,  0.,  4., 15., 12.,  0.,  0.],\n",
       "       [ 0.,  0.,  3., 16., 15., 14.,  0.,  0.],\n",
       "       [ 0.,  0.,  8., 13.,  8., 16.,  0.,  0.],\n",
       "       [ 0.,  0.,  1.,  6., 15., 11.,  0.,  0.],\n",
       "       [ 0.,  1.,  8., 13., 15.,  1.,  0.,  0.],\n",
       "       [ 0.,  9., 16., 16.,  5.,  0.,  0.,  0.],\n",
       "       [ 0.,  3., 13., 16., 16., 11.,  5.,  0.],\n",
       "       [ 0.,  0.,  0.,  3., 11., 16.,  9.,  0.]])"
      ]
     },
     "execution_count": 8,
     "metadata": {},
     "output_type": "execute_result"
    }
   ],
   "source": [
    "x[2].reshape(8,8)"
   ]
  },
  {
   "cell_type": "code",
   "execution_count": 16,
   "id": "6c23642c",
   "metadata": {},
   "outputs": [
    {
     "data": {
      "text/plain": [
       "<matplotlib.image.AxesImage at 0x186f8805f10>"
      ]
     },
     "execution_count": 16,
     "metadata": {},
     "output_type": "execute_result"
    },
    {
     "data": {
      "image/png": "[encoded data removed]",
      "text/plain": [
       "<Figure size 432x288 with 1 Axes>"
      ]
     },
     "metadata": {
      "needs_background": "light"
     },
     "output_type": "display_data"
    }
   ],
   "source": [
    "plt.imshow(x[4].reshape(8,8))"
   ]
  },
  {
   "cell_type": "code",
   "execution_count": null,
   "id": "17d2ad79",
   "metadata": {},
   "outputs": [],
   "source": []
  },
  {
   "cell_type": "code",
   "execution_count": 17,
   "id": "e8b5cae4",
   "metadata": {},
   "outputs": [
    {
     "data": {
      "text/plain": [
       "array([False, False, False, ..., False,  True, False])"
      ]
     },
     "execution_count": 17,
     "metadata": {},
     "output_type": "execute_result"
    }
   ],
   "source": [
    "y = y == 9"
   ]
  },
  {
   "cell_type": "code",
   "execution_count": 18,
   "id": "e226cf81",
   "metadata": {},
   "outputs": [
    {
     "data": {
      "text/plain": [
       "3    0.101836\n",
       "1    0.101280\n",
       "5    0.101280\n",
       "4    0.100723\n",
       "6    0.100723\n",
       "9    0.100167\n",
       "7    0.099610\n",
       "0    0.099054\n",
       "2    0.098497\n",
       "8    0.096828\n",
       "dtype: float64"
      ]
     },
     "execution_count": 18,
     "metadata": {},
     "output_type": "execute_result"
    }
   ],
   "source": [
    "pd.Series(y).value_counts() / len(y)         # imbalanced dataset"
   ]
  },
  {
   "cell_type": "code",
   "execution_count": 22,
   "id": "9685d679",
   "metadata": {},
   "outputs": [],
   "source": [
    "from sklearn.model_selection import train_test_split\n",
    "x_train, x_test, y_train, y_test = train_test_split(x,y, random_state=111)"
   ]
  },
  {
   "cell_type": "code",
   "execution_count": 24,
   "id": "1ab46ff5",
   "metadata": {},
   "outputs": [],
   "source": [
    "from sklearn.dummy import DummyClassifier\n",
    "\n",
    "# 다수의 클래스로 예측하는 classifier 생성 - 위의 데이터에 대해 100% False로만 예측\n",
    "dummy_majority = DummyClassifier(strategy='most_frequent').fit(x_train, y_train)"
   ]
  },
  {
   "cell_type": "code",
   "execution_count": 26,
   "id": "d61fa60c",
   "metadata": {},
   "outputs": [
    {
     "data": {
      "text/plain": [
       "array([5, 5, 5, 5, 5, 5, 5, 5, 5, 5, 5, 5, 5, 5, 5, 5, 5, 5, 5, 5, 5, 5,\n",
       "       5, 5, 5, 5, 5, 5, 5, 5, 5, 5, 5, 5, 5, 5, 5, 5, 5, 5, 5, 5, 5, 5,\n",
       "       5, 5, 5, 5, 5, 5, 5, 5, 5, 5, 5, 5, 5, 5, 5, 5, 5, 5, 5, 5, 5, 5,\n",
       "       5, 5, 5, 5, 5, 5, 5, 5, 5, 5, 5, 5, 5, 5, 5, 5, 5, 5, 5, 5, 5, 5,\n",
       "       5, 5, 5, 5, 5, 5, 5, 5, 5, 5, 5, 5, 5, 5, 5, 5, 5, 5, 5, 5, 5, 5,\n",
       "       5, 5, 5, 5, 5, 5, 5, 5, 5, 5, 5, 5, 5, 5, 5, 5, 5, 5, 5, 5, 5, 5,\n",
       "       5, 5, 5, 5, 5, 5, 5, 5, 5, 5, 5, 5, 5, 5, 5, 5, 5, 5, 5, 5, 5, 5,\n",
       "       5, 5, 5, 5, 5, 5, 5, 5, 5, 5, 5, 5, 5, 5, 5, 5, 5, 5, 5, 5, 5, 5,\n",
       "       5, 5, 5, 5, 5, 5, 5, 5, 5, 5, 5, 5, 5, 5, 5, 5, 5, 5, 5, 5, 5, 5,\n",
       "       5, 5, 5, 5, 5, 5, 5, 5, 5, 5, 5, 5, 5, 5, 5, 5, 5, 5, 5, 5, 5, 5,\n",
       "       5, 5, 5, 5, 5, 5, 5, 5, 5, 5, 5, 5, 5, 5, 5, 5, 5, 5, 5, 5, 5, 5,\n",
       "       5, 5, 5, 5, 5, 5, 5, 5, 5, 5, 5, 5, 5, 5, 5, 5, 5, 5, 5, 5, 5, 5,\n",
       "       5, 5, 5, 5, 5, 5, 5, 5, 5, 5, 5, 5, 5, 5, 5, 5, 5, 5, 5, 5, 5, 5,\n",
       "       5, 5, 5, 5, 5, 5, 5, 5, 5, 5, 5, 5, 5, 5, 5, 5, 5, 5, 5, 5, 5, 5,\n",
       "       5, 5, 5, 5, 5, 5, 5, 5, 5, 5, 5, 5, 5, 5, 5, 5, 5, 5, 5, 5, 5, 5,\n",
       "       5, 5, 5, 5, 5, 5, 5, 5, 5, 5, 5, 5, 5, 5, 5, 5, 5, 5, 5, 5, 5, 5,\n",
       "       5, 5, 5, 5, 5, 5, 5, 5, 5, 5, 5, 5, 5, 5, 5, 5, 5, 5, 5, 5, 5, 5,\n",
       "       5, 5, 5, 5, 5, 5, 5, 5, 5, 5, 5, 5, 5, 5, 5, 5, 5, 5, 5, 5, 5, 5,\n",
       "       5, 5, 5, 5, 5, 5, 5, 5, 5, 5, 5, 5, 5, 5, 5, 5, 5, 5, 5, 5, 5, 5,\n",
       "       5, 5, 5, 5, 5, 5, 5, 5, 5, 5, 5, 5, 5, 5, 5, 5, 5, 5, 5, 5, 5, 5,\n",
       "       5, 5, 5, 5, 5, 5, 5, 5, 5, 5])"
      ]
     },
     "execution_count": 26,
     "metadata": {},
     "output_type": "execute_result"
    }
   ],
   "source": [
    "preds = dummy_majority.predict(x_test)\n",
    "preds"
   ]
  },
  {
   "cell_type": "code",
   "execution_count": 28,
   "id": "0fe32e9d",
   "metadata": {},
   "outputs": [
    {
     "data": {
      "text/plain": [
       "0.08888888888888889"
      ]
     },
     "execution_count": 28,
     "metadata": {},
     "output_type": "execute_result"
    }
   ],
   "source": [
    "np.mean(y_test == preds)"
   ]
  },
  {
   "cell_type": "code",
   "execution_count": 31,
   "id": "8110981a",
   "metadata": {},
   "outputs": [
    {
     "data": {
      "text/plain": [
       "0.08888888888888889"
      ]
     },
     "execution_count": 31,
     "metadata": {},
     "output_type": "execute_result"
    }
   ],
   "source": [
    "dummy_majority.score(x_test, y_test)\n",
    "\n",
    "# 전혀 분류능력이 없는 classifier가 90%의 accuracy score를 기록 => imbalanced data\n",
    "# => accuracy의 한계 => precision, recall, f1_score, auc_score 등을 대신 사용"
   ]
  },
  {
   "cell_type": "code",
   "execution_count": null,
   "id": "7e94c89a",
   "metadata": {},
   "outputs": [],
   "source": []
  },
  {
   "cell_type": "code",
   "execution_count": 38,
   "id": "46d21308",
   "metadata": {},
   "outputs": [
    {
     "name": "stdout",
     "output_type": "stream",
     "text": [
      "Tree : 0.84 Knn : 0.98 SVC : 0.99 dummy : 0.09\n"
     ]
    }
   ],
   "source": [
    "from sklearn.tree import DecisionTreeClassifier\n",
    "from sklearn.neighbors import KNeighborsClassifier\n",
    "from sklearn.svm import SVC\n",
    "\n",
    "tree = DecisionTreeClassifier()\n",
    "knn = KNeighborsClassifier()\n",
    "svc = SVC()\n",
    "\n",
    "\n",
    "tree.fit(x_train, y_train)\n",
    "knn.fit(x_train, y_train)\n",
    "svc.fit(x_train, y_train)\n",
    "dummy_acc = dummy_majority.score(x_test, y_test)\n",
    "\n",
    "tree_acc = tree.score(x_test, y_test)\n",
    "knn_acc = knn.score(x_test, y_test)\n",
    "svc_acc = svc.score(x_test, y_test)\n",
    "\n",
    "print('Tree :', round(tree_acc, 2), 'Knn :', round(knn_acc, 2), 'SVC :', round(svc_acc, 2), 'dummy :', round(dummy_acc, 2))"
   ]
  },
  {
   "cell_type": "code",
   "execution_count": 41,
   "id": "58b39190",
   "metadata": {},
   "outputs": [],
   "source": [
    "from sklearn.metrics import f1_score"
   ]
  },
  {
   "cell_type": "code",
   "execution_count": 43,
   "id": "41d71abb",
   "metadata": {},
   "outputs": [
    {
     "ename": "ValueError",
     "evalue": "Target is multiclass but average='binary'. Please choose another average setting, one of [None, 'micro', 'macro', 'weighted'].",
     "output_type": "error",
     "traceback": [
      "\u001b[1;31m---------------------------------------------------------------------------\u001b[0m",
      "\u001b[1;31mValueError\u001b[0m                                Traceback (most recent call last)",
      "\u001b[1;32m~\\AppData\\Local\\Temp/ipykernel_10656/3528416615.py\u001b[0m in \u001b[0;36m<module>\u001b[1;34m\u001b[0m\n\u001b[0;32m     12\u001b[0m \u001b[0mdummy_preds\u001b[0m \u001b[1;33m=\u001b[0m \u001b[0mdummy_majority\u001b[0m\u001b[1;33m.\u001b[0m\u001b[0mpredict\u001b[0m\u001b[1;33m(\u001b[0m\u001b[0mx_test\u001b[0m\u001b[1;33m)\u001b[0m\u001b[1;33m\u001b[0m\u001b[1;33m\u001b[0m\u001b[0m\n\u001b[0;32m     13\u001b[0m \u001b[1;33m\u001b[0m\u001b[0m\n\u001b[1;32m---> 14\u001b[1;33m \u001b[0mtree_f1\u001b[0m \u001b[1;33m=\u001b[0m \u001b[0mf1_score\u001b[0m\u001b[1;33m(\u001b[0m\u001b[0mtree_preds\u001b[0m\u001b[1;33m,\u001b[0m \u001b[0my_test\u001b[0m\u001b[1;33m)\u001b[0m\u001b[1;33m\u001b[0m\u001b[1;33m\u001b[0m\u001b[0m\n\u001b[0m\u001b[0;32m     15\u001b[0m \u001b[0mknn_f1\u001b[0m \u001b[1;33m=\u001b[0m \u001b[0mf1_score\u001b[0m\u001b[1;33m(\u001b[0m\u001b[0mknn_preds\u001b[0m\u001b[1;33m,\u001b[0m \u001b[0my_test\u001b[0m\u001b[1;33m)\u001b[0m\u001b[1;33m\u001b[0m\u001b[1;33m\u001b[0m\u001b[0m\n\u001b[0;32m     16\u001b[0m \u001b[0msvc_f1\u001b[0m \u001b[1;33m=\u001b[0m \u001b[0mf1_score\u001b[0m\u001b[1;33m(\u001b[0m\u001b[0msvc_preds\u001b[0m\u001b[1;33m,\u001b[0m \u001b[0my_test\u001b[0m\u001b[1;33m)\u001b[0m\u001b[1;33m\u001b[0m\u001b[1;33m\u001b[0m\u001b[0m\n",
      "\u001b[1;32m~\\anaconda3\\lib\\site-packages\\sklearn\\utils\\validation.py\u001b[0m in \u001b[0;36minner_f\u001b[1;34m(*args, **kwargs)\u001b[0m\n\u001b[0;32m     61\u001b[0m             \u001b[0mextra_args\u001b[0m \u001b[1;33m=\u001b[0m \u001b[0mlen\u001b[0m\u001b[1;33m(\u001b[0m\u001b[0margs\u001b[0m\u001b[1;33m)\u001b[0m \u001b[1;33m-\u001b[0m \u001b[0mlen\u001b[0m\u001b[1;33m(\u001b[0m\u001b[0mall_args\u001b[0m\u001b[1;33m)\u001b[0m\u001b[1;33m\u001b[0m\u001b[1;33m\u001b[0m\u001b[0m\n\u001b[0;32m     62\u001b[0m             \u001b[1;32mif\u001b[0m \u001b[0mextra_args\u001b[0m \u001b[1;33m<=\u001b[0m \u001b[1;36m0\u001b[0m\u001b[1;33m:\u001b[0m\u001b[1;33m\u001b[0m\u001b[1;33m\u001b[0m\u001b[0m\n\u001b[1;32m---> 63\u001b[1;33m                 \u001b[1;32mreturn\u001b[0m \u001b[0mf\u001b[0m\u001b[1;33m(\u001b[0m\u001b[1;33m*\u001b[0m\u001b[0margs\u001b[0m\u001b[1;33m,\u001b[0m \u001b[1;33m**\u001b[0m\u001b[0mkwargs\u001b[0m\u001b[1;33m)\u001b[0m\u001b[1;33m\u001b[0m\u001b[1;33m\u001b[0m\u001b[0m\n\u001b[0m\u001b[0;32m     64\u001b[0m \u001b[1;33m\u001b[0m\u001b[0m\n\u001b[0;32m     65\u001b[0m             \u001b[1;31m# extra_args > 0\u001b[0m\u001b[1;33m\u001b[0m\u001b[1;33m\u001b[0m\u001b[0m\n",
      "\u001b[1;32m~\\anaconda3\\lib\\site-packages\\sklearn\\metrics\\_classification.py\u001b[0m in \u001b[0;36mf1_score\u001b[1;34m(y_true, y_pred, labels, pos_label, average, sample_weight, zero_division)\u001b[0m\n\u001b[0;32m   1069\u001b[0m     \u001b[0mmodified\u001b[0m \u001b[1;32mwith\u001b[0m\u001b[0;31m \u001b[0m\u001b[0;31m`\u001b[0m\u001b[0;31m`\u001b[0m\u001b[0mzero_division\u001b[0m\u001b[0;31m`\u001b[0m\u001b[0;31m`\u001b[0m\u001b[1;33m.\u001b[0m\u001b[1;33m\u001b[0m\u001b[1;33m\u001b[0m\u001b[0m\n\u001b[0;32m   1070\u001b[0m     \"\"\"\n\u001b[1;32m-> 1071\u001b[1;33m     return fbeta_score(y_true, y_pred, beta=1, labels=labels,\n\u001b[0m\u001b[0;32m   1072\u001b[0m                        \u001b[0mpos_label\u001b[0m\u001b[1;33m=\u001b[0m\u001b[0mpos_label\u001b[0m\u001b[1;33m,\u001b[0m \u001b[0maverage\u001b[0m\u001b[1;33m=\u001b[0m\u001b[0maverage\u001b[0m\u001b[1;33m,\u001b[0m\u001b[1;33m\u001b[0m\u001b[1;33m\u001b[0m\u001b[0m\n\u001b[0;32m   1073\u001b[0m                        \u001b[0msample_weight\u001b[0m\u001b[1;33m=\u001b[0m\u001b[0msample_weight\u001b[0m\u001b[1;33m,\u001b[0m\u001b[1;33m\u001b[0m\u001b[1;33m\u001b[0m\u001b[0m\n",
      "\u001b[1;32m~\\anaconda3\\lib\\site-packages\\sklearn\\utils\\validation.py\u001b[0m in \u001b[0;36minner_f\u001b[1;34m(*args, **kwargs)\u001b[0m\n\u001b[0;32m     61\u001b[0m             \u001b[0mextra_args\u001b[0m \u001b[1;33m=\u001b[0m \u001b[0mlen\u001b[0m\u001b[1;33m(\u001b[0m\u001b[0margs\u001b[0m\u001b[1;33m)\u001b[0m \u001b[1;33m-\u001b[0m \u001b[0mlen\u001b[0m\u001b[1;33m(\u001b[0m\u001b[0mall_args\u001b[0m\u001b[1;33m)\u001b[0m\u001b[1;33m\u001b[0m\u001b[1;33m\u001b[0m\u001b[0m\n\u001b[0;32m     62\u001b[0m             \u001b[1;32mif\u001b[0m \u001b[0mextra_args\u001b[0m \u001b[1;33m<=\u001b[0m \u001b[1;36m0\u001b[0m\u001b[1;33m:\u001b[0m\u001b[1;33m\u001b[0m\u001b[1;33m\u001b[0m\u001b[0m\n\u001b[1;32m---> 63\u001b[1;33m                 \u001b[1;32mreturn\u001b[0m \u001b[0mf\u001b[0m\u001b[1;33m(\u001b[0m\u001b[1;33m*\u001b[0m\u001b[0margs\u001b[0m\u001b[1;33m,\u001b[0m \u001b[1;33m**\u001b[0m\u001b[0mkwargs\u001b[0m\u001b[1;33m)\u001b[0m\u001b[1;33m\u001b[0m\u001b[1;33m\u001b[0m\u001b[0m\n\u001b[0m\u001b[0;32m     64\u001b[0m \u001b[1;33m\u001b[0m\u001b[0m\n\u001b[0;32m     65\u001b[0m             \u001b[1;31m# extra_args > 0\u001b[0m\u001b[1;33m\u001b[0m\u001b[1;33m\u001b[0m\u001b[0m\n",
      "\u001b[1;32m~\\anaconda3\\lib\\site-packages\\sklearn\\metrics\\_classification.py\u001b[0m in \u001b[0;36mfbeta_score\u001b[1;34m(y_true, y_pred, beta, labels, pos_label, average, sample_weight, zero_division)\u001b[0m\n\u001b[0;32m   1193\u001b[0m     \"\"\"\n\u001b[0;32m   1194\u001b[0m \u001b[1;33m\u001b[0m\u001b[0m\n\u001b[1;32m-> 1195\u001b[1;33m     _, _, f, _ = precision_recall_fscore_support(y_true, y_pred,\n\u001b[0m\u001b[0;32m   1196\u001b[0m                                                  \u001b[0mbeta\u001b[0m\u001b[1;33m=\u001b[0m\u001b[0mbeta\u001b[0m\u001b[1;33m,\u001b[0m\u001b[1;33m\u001b[0m\u001b[1;33m\u001b[0m\u001b[0m\n\u001b[0;32m   1197\u001b[0m                                                  \u001b[0mlabels\u001b[0m\u001b[1;33m=\u001b[0m\u001b[0mlabels\u001b[0m\u001b[1;33m,\u001b[0m\u001b[1;33m\u001b[0m\u001b[1;33m\u001b[0m\u001b[0m\n",
      "\u001b[1;32m~\\anaconda3\\lib\\site-packages\\sklearn\\utils\\validation.py\u001b[0m in \u001b[0;36minner_f\u001b[1;34m(*args, **kwargs)\u001b[0m\n\u001b[0;32m     61\u001b[0m             \u001b[0mextra_args\u001b[0m \u001b[1;33m=\u001b[0m \u001b[0mlen\u001b[0m\u001b[1;33m(\u001b[0m\u001b[0margs\u001b[0m\u001b[1;33m)\u001b[0m \u001b[1;33m-\u001b[0m \u001b[0mlen\u001b[0m\u001b[1;33m(\u001b[0m\u001b[0mall_args\u001b[0m\u001b[1;33m)\u001b[0m\u001b[1;33m\u001b[0m\u001b[1;33m\u001b[0m\u001b[0m\n\u001b[0;32m     62\u001b[0m             \u001b[1;32mif\u001b[0m \u001b[0mextra_args\u001b[0m \u001b[1;33m<=\u001b[0m \u001b[1;36m0\u001b[0m\u001b[1;33m:\u001b[0m\u001b[1;33m\u001b[0m\u001b[1;33m\u001b[0m\u001b[0m\n\u001b[1;32m---> 63\u001b[1;33m                 \u001b[1;32mreturn\u001b[0m \u001b[0mf\u001b[0m\u001b[1;33m(\u001b[0m\u001b[1;33m*\u001b[0m\u001b[0margs\u001b[0m\u001b[1;33m,\u001b[0m \u001b[1;33m**\u001b[0m\u001b[0mkwargs\u001b[0m\u001b[1;33m)\u001b[0m\u001b[1;33m\u001b[0m\u001b[1;33m\u001b[0m\u001b[0m\n\u001b[0m\u001b[0;32m     64\u001b[0m \u001b[1;33m\u001b[0m\u001b[0m\n\u001b[0;32m     65\u001b[0m             \u001b[1;31m# extra_args > 0\u001b[0m\u001b[1;33m\u001b[0m\u001b[1;33m\u001b[0m\u001b[0m\n",
      "\u001b[1;32m~\\anaconda3\\lib\\site-packages\\sklearn\\metrics\\_classification.py\u001b[0m in \u001b[0;36mprecision_recall_fscore_support\u001b[1;34m(y_true, y_pred, beta, labels, pos_label, average, warn_for, sample_weight, zero_division)\u001b[0m\n\u001b[0;32m   1462\u001b[0m     \u001b[1;32mif\u001b[0m \u001b[0mbeta\u001b[0m \u001b[1;33m<\u001b[0m \u001b[1;36m0\u001b[0m\u001b[1;33m:\u001b[0m\u001b[1;33m\u001b[0m\u001b[1;33m\u001b[0m\u001b[0m\n\u001b[0;32m   1463\u001b[0m         \u001b[1;32mraise\u001b[0m \u001b[0mValueError\u001b[0m\u001b[1;33m(\u001b[0m\u001b[1;34m\"beta should be >=0 in the F-beta score\"\u001b[0m\u001b[1;33m)\u001b[0m\u001b[1;33m\u001b[0m\u001b[1;33m\u001b[0m\u001b[0m\n\u001b[1;32m-> 1464\u001b[1;33m     labels = _check_set_wise_labels(y_true, y_pred, average, labels,\n\u001b[0m\u001b[0;32m   1465\u001b[0m                                     pos_label)\n\u001b[0;32m   1466\u001b[0m \u001b[1;33m\u001b[0m\u001b[0m\n",
      "\u001b[1;32m~\\anaconda3\\lib\\site-packages\\sklearn\\metrics\\_classification.py\u001b[0m in \u001b[0;36m_check_set_wise_labels\u001b[1;34m(y_true, y_pred, average, labels, pos_label)\u001b[0m\n\u001b[0;32m   1292\u001b[0m             \u001b[1;32mif\u001b[0m \u001b[0my_type\u001b[0m \u001b[1;33m==\u001b[0m \u001b[1;34m'multiclass'\u001b[0m\u001b[1;33m:\u001b[0m\u001b[1;33m\u001b[0m\u001b[1;33m\u001b[0m\u001b[0m\n\u001b[0;32m   1293\u001b[0m                 \u001b[0maverage_options\u001b[0m\u001b[1;33m.\u001b[0m\u001b[0mremove\u001b[0m\u001b[1;33m(\u001b[0m\u001b[1;34m'samples'\u001b[0m\u001b[1;33m)\u001b[0m\u001b[1;33m\u001b[0m\u001b[1;33m\u001b[0m\u001b[0m\n\u001b[1;32m-> 1294\u001b[1;33m             raise ValueError(\"Target is %s but average='binary'. Please \"\n\u001b[0m\u001b[0;32m   1295\u001b[0m                              \u001b[1;34m\"choose another average setting, one of %r.\"\u001b[0m\u001b[1;33m\u001b[0m\u001b[1;33m\u001b[0m\u001b[0m\n\u001b[0;32m   1296\u001b[0m                              % (y_type, average_options))\n",
      "\u001b[1;31mValueError\u001b[0m: Target is multiclass but average='binary'. Please choose another average setting, one of [None, 'micro', 'macro', 'weighted']."
     ]
    }
   ],
   "source": [
    "tree = DecisionTreeClassifier()\n",
    "knn = KNeighborsClassifier()\n",
    "svc = SVC()\n",
    "\n",
    "tree.fit(x_train, y_train)\n",
    "knn.fit(x_train, y_train)\n",
    "svc.fit(x_train, y_train)\n",
    "\n",
    "tree_preds = tree.predict(x_test)\n",
    "knn_preds = knn.predict(x_test)\n",
    "svc_preds = svc.predict(x_test)\n",
    "dummy_preds = dummy_majority.predict(x_test)\n",
    "\n",
    "tree_f1 = f1_score(tree_preds, y_test)\n",
    "knn_f1 = f1_score(knn_preds, y_test)\n",
    "svc_f1 = f1_score(svc_preds, y_test)\n",
    "dummy_f1 = f1_score(dummy_preds, y_test)\n",
    "\n",
    "print('Tree :', round(tree_f1, 2), 'Knn :', round(knn_f1, 2), 'SVC :', round(svc_f1, 2), 'dummy :', round(dummy_f1, 2))"
   ]
  },
  {
   "cell_type": "code",
   "execution_count": null,
   "id": "22947bc6",
   "metadata": {},
   "outputs": [],
   "source": []
  },
  {
   "cell_type": "code",
   "execution_count": null,
   "id": "266d71cf",
   "metadata": {},
   "outputs": [],
   "source": [
    "# 모든 머신러닝 모델은 내부적으로 확률값을 리턴"
   ]
  },
  {
   "cell_type": "code",
   "execution_count": 46,
   "id": "d1c44d2f",
   "metadata": {
    "collapsed": true
   },
   "outputs": [
    {
     "name": "stdout",
     "output_type": "stream",
     "text": [
      "[[ -1.58341978 -22.37156225]\n",
      " [ -4.17570775  -5.96493849]\n",
      " [-13.82618705 -14.40188785]\n",
      " [  0.71057905  -3.81896754]\n",
      " [-16.18799493 -17.86041252]\n",
      " [ -5.04648232 -13.08413534]\n",
      " [ -2.38421045   4.24907617]\n",
      " [ -7.62667962  -7.02174225]\n",
      " [ -4.33194738 -16.93515838]\n",
      " [-10.46971421  -3.7552367 ]\n",
      " [ -7.85437418  -6.60585426]\n",
      " [-12.60875898 -21.60553719]\n",
      " [ -8.18522711 -10.19766755]\n",
      " [ -3.3325315  -12.09877426]\n",
      " [ -5.09496344   3.21894059]\n",
      " [ -1.23674448   1.41194334]\n",
      " [  2.88612612 -15.05748342]\n",
      " [  3.28008484 -19.31150295]\n",
      " [-11.60114518 -13.79648723]\n",
      " [ -1.03148188 -16.56868902]\n",
      " [ -8.30336622 -20.90057984]\n",
      " [ -8.02778965 -22.5505915 ]\n",
      " [ -0.25886509 -20.76635351]\n",
      " [ -5.26561896 -10.48903141]\n",
      " [ -7.39860975 -11.95250181]\n",
      " [ -5.80727986  -2.98676337]\n",
      " [-12.72741369  -8.04746527]\n",
      " [ -7.38786129  -6.9130162 ]\n",
      " [ 10.26301184 -10.42448108]\n",
      " [  0.11901162  -7.43466548]\n",
      " [ -9.64656866  -8.53360646]\n",
      " [-11.94466128 -10.11274106]\n",
      " [ -8.67950693 -11.76521059]\n",
      " [ -5.40164787 -13.46729279]\n",
      " [-11.4050386  -18.05172318]\n",
      " [ -1.2985921   -3.50131636]\n",
      " [  1.63441047  -3.46408389]\n",
      " [-14.65299942 -20.76571548]\n",
      " [-24.66252478  -0.20282347]\n",
      " [ -6.45259863 -11.84791472]\n",
      " [  2.86178609 -19.14551368]\n",
      " [-17.52124548 -12.25122079]\n",
      " [  4.02810595 -22.78763701]\n",
      " [ -9.28097864  -5.33046696]\n",
      " [  2.6602493   -7.38013938]\n",
      " [ -8.70124737  -4.43459752]\n",
      " [ -1.81643205   2.98586535]\n",
      " [-11.38952573 -22.96852196]\n",
      " [-12.3334617   -4.67991945]\n",
      " [ -8.45545336  -4.43259023]\n",
      " [ -2.78031511 -11.88380538]\n",
      " [ -7.33886209 -22.73803713]\n",
      " [  4.88926442 -15.08892634]\n",
      " [ -6.24815947 -19.6110681 ]\n",
      " [ -7.69503349 -12.27425009]\n",
      " [  4.26354237  -6.3883176 ]\n",
      " [  6.04355019 -12.69268967]\n",
      " [  2.17400787 -12.85454508]\n",
      " [ -5.96277202  -2.489224  ]\n",
      " [ -8.48231071 -12.50884114]\n",
      " [-14.75020874 -18.21693415]\n",
      " [ -7.26218489 -12.54684582]\n",
      " [-20.95623257 -23.97259375]\n",
      " [ -4.35243877  -2.70058859]\n",
      " [  4.85779748 -11.3616099 ]\n",
      " [-11.75562896  -7.68979561]\n",
      " [  0.17687565 -14.33563709]\n",
      " [ -3.90469438 -10.03937175]\n",
      " [ -7.54727887  -9.52484559]\n",
      " [ -9.67793307  -8.08988346]\n",
      " [ -1.26870675 -14.10852292]\n",
      " [ -4.83412748  -1.75956439]\n",
      " [ -1.81336483  -9.19489624]\n",
      " [-12.79261114  -4.50469033]\n",
      " [-15.66164634  -2.98073621]\n",
      " [ -7.64125845 -13.62817709]\n",
      " [  1.40948577  -6.56705626]\n",
      " [-19.68719892 -16.50193914]\n",
      " [ -3.95556552 -13.00531174]\n",
      " [ -2.55234112 -13.24944009]\n",
      " [  1.02610806  -0.99051829]\n",
      " [  2.64431688 -16.35992914]\n",
      " [  1.89849789  -6.77346296]\n",
      " [ -5.15447093  -6.09250985]\n",
      " [ -6.458814    -8.03058548]\n",
      " [-14.27913509   5.92247873]\n",
      " [-10.50530654   7.33553383]\n",
      " [-10.15101176  -7.40267649]\n",
      " [ -2.05143427   1.98495376]\n",
      " [-15.87660324 -10.01235398]\n",
      " [ -2.54739442  -8.53455964]\n",
      " [ -7.31548061  -8.24949076]\n",
      " [-22.96654277 -10.93813914]\n",
      " [ -6.37278213  -5.83691977]\n",
      " [-16.89191702  -3.54140682]\n",
      " [ -7.75690033 -12.2154195 ]\n",
      " [  1.41069185 -10.83367698]\n",
      " [-12.29566717 -19.25302147]\n",
      " [ -2.48553824  -3.92722362]\n",
      " [ -5.96867714 -10.96222722]\n",
      " [  7.13573178 -23.56549589]\n",
      " [ -5.18204075 -16.96644366]\n",
      " [ -0.67021926  -9.35293189]\n",
      " [  4.71232492 -21.04845723]\n",
      " [ -3.94204025   1.38894087]\n",
      " [-16.00354674 -15.55081075]\n",
      " [-14.44364752  -8.43664144]\n",
      " [ -4.87316877  -8.78575864]\n",
      " [-11.6022814   -4.8057317 ]\n",
      " [-15.23310396  -8.8932073 ]\n",
      " [-14.4814558   -4.03379224]\n",
      " [-12.31307579  -6.75164836]\n",
      " [  2.80087667 -17.56222764]\n",
      " [ -9.72810758  -3.79832216]\n",
      " [-11.91561422 -20.48920986]\n",
      " [ -7.58320855  -3.72095741]\n",
      " [  0.12437798 -15.1759017 ]\n",
      " [-12.07327347   1.45557056]\n",
      " [ -1.98404747  -9.09604251]\n",
      " [  1.27480167 -11.77753163]\n",
      " [ -9.87171956  -6.07534175]\n",
      " [  0.57540209  -9.68559225]\n",
      " [ -8.12346266  -8.89323917]\n",
      " [ -4.32017647   0.20890267]\n",
      " [  4.43163644   1.65862272]\n",
      " [ -2.37351829  -1.33491858]\n",
      " [ -4.82874786   2.9061044 ]\n",
      " [ 10.13969539 -11.5452421 ]\n",
      " [ -2.82441007  -7.23949761]\n",
      " [-21.4853874  -13.36727205]\n",
      " [-20.80996086 -12.54495151]\n",
      " [ -1.87410194  -1.43233471]\n",
      " [  3.56311285 -23.50830376]\n",
      " [  1.52676962 -12.27362755]\n",
      " [-22.7067883   -2.97092742]\n",
      " [  1.2193698   -5.87374316]\n",
      " [  7.30256554  -8.04531263]\n",
      " [-11.56029056 -17.63010749]\n",
      " [-16.4796417    0.7250946 ]\n",
      " [ -1.81154108 -17.4598684 ]\n",
      " [ -2.43177884  -7.80272975]\n",
      " [-17.43706638  -0.43388969]\n",
      " [  0.87564411 -12.72961898]\n",
      " [ -7.57170118  -0.53813912]\n",
      " [  3.55547457 -22.39883235]\n",
      " [ -1.01961248  -2.00235796]\n",
      " [ -1.38605816 -17.1658917 ]\n",
      " [-14.34468623 -15.98024602]\n",
      " [-12.32142009  -6.15712322]\n",
      " [-10.90536294  -4.71650931]\n",
      " [-21.88359296  -4.34019792]\n",
      " [ -7.72337377 -14.20309264]\n",
      " [ -9.27478382  -9.92742117]\n",
      " [-12.08990497  -5.54563214]\n",
      " [ -9.0435641  -13.03332322]\n",
      " [  2.8787222  -18.84212301]\n",
      " [-11.67832073 -16.64118344]\n",
      " [ -5.53655171 -16.61864654]\n",
      " [ -8.30380514 -14.18444363]\n",
      " [ -7.13065099 -20.69823322]\n",
      " [ -4.46675962  -8.30621779]\n",
      " [ -2.41610415 -10.48361027]\n",
      " [ -6.78323642  -2.14033796]\n",
      " [ -5.48719614  -9.21052117]\n",
      " [ -7.82523343 -13.01596087]\n",
      " [  4.05269427 -17.41715568]\n",
      " [ -9.42291367  -6.18784673]\n",
      " [ -8.31065169  -6.29549206]\n",
      " [-10.68135018 -19.57303295]\n",
      " [ -7.60154459  -8.96762655]\n",
      " [ -7.29349801 -22.18328684]\n",
      " [ -7.58933747   1.78320914]\n",
      " [ -8.00833856 -12.64623653]\n",
      " [ -1.92838555 -17.32448559]\n",
      " [-10.10021042   1.32143069]\n",
      " [ -6.18354937 -14.18959384]\n",
      " [ -5.19826823 -14.71527623]\n",
      " [  1.54471668  -5.45008851]\n",
      " [-17.11960388  -8.07841513]\n",
      " [-10.80244252 -17.3378939 ]\n",
      " [ -3.48733604  -6.21433446]\n",
      " [-17.25216245  -3.0092433 ]\n",
      " [ -8.74118438 -20.41888332]\n",
      " [ -9.65518634  -5.40612211]\n",
      " [  4.30155392  -9.52727929]\n",
      " [  4.79174308   2.31555759]\n",
      " [-23.42038497  -5.86568496]\n",
      " [  0.78764914 -10.24747982]\n",
      " [ -1.75954385  -1.5974636 ]\n",
      " [ -9.78656215 -28.18372509]\n",
      " [ -2.78201796  -6.42274515]\n",
      " [  1.05024289 -18.4654634 ]\n",
      " [ -7.69610136 -19.19380318]\n",
      " [  2.24548324   3.90443564]\n",
      " [-15.92814582 -17.54979276]\n",
      " [-12.43807384 -10.52428544]\n",
      " [-12.26415739   5.25734589]\n",
      " [  2.06910527 -15.51195788]\n",
      " [ -2.09663895  -7.16023365]\n",
      " [ -1.61969825  -8.55544111]\n",
      " [  0.54363084   6.9771413 ]\n",
      " [ -5.55402663 -14.50329697]\n",
      " [ -7.58440543 -15.57851191]\n",
      " [ -8.32497204   1.13546968]\n",
      " [ -8.21874057 -16.95113899]\n",
      " [  0.91617335  -8.38432291]\n",
      " [ -8.22833373  -5.55769742]\n",
      " [-11.54135625  -0.5115167 ]\n",
      " [ -3.94551565  -0.25722849]\n",
      " [-15.53344579 -17.446822  ]\n",
      " [-13.16429325 -11.89921713]\n",
      " [ -1.31434065   1.23300626]\n",
      " [-12.37913067 -13.04154204]\n",
      " [-11.22538472  -7.42824017]\n",
      " [-17.86796761 -14.14161359]\n",
      " [ -1.40968763 -10.67171133]\n",
      " [  3.82657118  -6.17383844]\n",
      " [ -8.55755902   0.94920812]\n",
      " [-14.06553117  -5.37795003]\n",
      " [-12.00294405  -7.1755414 ]\n",
      " [-23.95125917 -17.906075  ]\n",
      " [ -5.8922878   -7.7092511 ]\n",
      " [-10.70844991  -5.23895107]\n",
      " [ -2.52338489   9.23519548]\n",
      " [ -4.8037536   -5.36005859]\n",
      " [-17.99943237  -0.31301939]\n",
      " [  1.74293234 -19.26250612]\n",
      " [  2.00658893 -13.00643671]\n",
      " [  3.02304028  -2.49890015]\n",
      " [-10.00589888 -12.85721831]\n",
      " [ -2.80965303  -6.26529576]\n",
      " [ -5.36152294 -15.48435536]\n",
      " [-19.17549304 -14.12205312]\n",
      " [-17.60992218 -20.7795356 ]\n",
      " [ -9.24465011  -0.98973979]\n",
      " [-16.60720967 -17.71983318]\n",
      " [ -8.76251858   1.9693886 ]\n",
      " [-14.37324579  -8.61786094]\n",
      " [  2.61625694 -10.20168145]\n",
      " [-16.1366216   -7.86531451]\n",
      " [ -3.44725121 -17.06971603]\n",
      " [ -5.77176278  -9.16479354]\n",
      " [  1.74800602  -6.48374293]\n",
      " [ -7.9199301  -11.74856858]\n",
      " [ -0.4015419   -9.92411349]\n",
      " [ -9.03241512  -3.17061737]\n",
      " [ -1.58942375  -0.79108516]\n",
      " [  5.44983149  -9.7462481 ]\n",
      " [-22.93150137  -7.23060571]\n",
      " [-16.64062722 -11.08693319]\n",
      " [ -8.2871753  -11.84613149]\n",
      " [-14.48103456 -16.35187353]\n",
      " [ -8.00692675 -22.13812367]\n",
      " [-12.91772413  -2.75224502]\n",
      " [ -8.17177311 -17.38723438]\n",
      " [ -2.89347852 -18.32127614]\n",
      " [ -2.22765704 -14.39010648]\n",
      " [ -3.16413775   5.69852844]\n",
      " [  8.70211476 -15.41655594]\n",
      " [-20.73800705  -3.54110871]\n",
      " [  1.45682535  -6.41429561]\n",
      " [ -9.47351307  -6.63400838]\n",
      " [  0.20698827  -6.35037733]\n",
      " [-11.3325044   -9.94112319]\n",
      " [ -9.13281815   1.12906128]\n",
      " [-15.7043556   -6.51609149]\n",
      " [ -6.91876095  -8.7796257 ]\n",
      " [ -8.07886337 -18.93938568]\n",
      " [ -1.7773742   -9.73050983]\n",
      " [-16.71402501   4.99414887]\n",
      " [ -6.05278939   3.42079832]\n",
      " [ -7.40928126  -5.37346418]\n",
      " [ -2.19389218  -4.74152438]\n",
      " [ -4.37228969   6.17397152]\n",
      " [ -1.56683005  -5.68214994]\n",
      " [ -8.95111157   0.2027192 ]\n",
      " [ -2.50127248  -8.50365689]\n",
      " [ -1.73816972  -9.59455774]\n",
      " [ -8.76902313  -7.14424731]\n",
      " [-14.59944646 -16.93226875]\n",
      " [-13.2660138  -14.27697386]\n",
      " [  9.01838797  -9.8699635 ]\n",
      " [ -8.31308868 -16.53928827]\n",
      " [ -2.2388028   -7.01695083]\n",
      " [ -8.22031809  -1.54258841]\n",
      " [-12.61955277  -8.11974295]\n",
      " [  2.50120463  -4.96782986]\n",
      " [ -6.79445685 -33.83247458]\n",
      " [ -5.89746776  -3.15946855]\n",
      " [ -6.5835163   -6.46837866]\n",
      " [ -5.75429079 -12.7701643 ]\n",
      " [ -1.5443633   -4.75097079]\n",
      " [ -0.66518721   6.10764765]\n",
      " [  2.06352909 -19.94015451]\n",
      " [-18.18338247 -17.91078203]\n",
      " [ -6.41566978 -11.23415108]\n",
      " [  8.73157171 -13.28544972]\n",
      " [ -8.80533205   2.08030185]\n",
      " [  5.2198261   -6.96001038]\n",
      " [-12.9569374  -13.14602842]\n",
      " [ -4.00653215  -8.64258265]\n",
      " [  1.06414879 -18.09953509]\n",
      " [-14.46839435 -12.97918873]\n",
      " [-20.18860943 -10.00692327]\n",
      " [-22.5220982  -28.80400921]\n",
      " [  1.70221652  -9.24429066]\n",
      " [-15.6070931  -11.47640734]\n",
      " [ -1.414274    -6.97210412]\n",
      " [ -0.24080962   3.31405894]\n",
      " [-12.49844941  -7.89378167]\n",
      " [ -8.05535934 -18.23691862]\n",
      " [ -6.86828617 -12.50296344]\n",
      " [ -0.53965561  -8.33694995]\n",
      " [ -2.20364269 -11.78796585]\n",
      " [-14.66970662  -6.96679896]\n",
      " [ -5.93990862 -24.2302704 ]\n",
      " [ -3.64558197   9.02947984]\n",
      " [ -3.45647214  13.59228129]\n",
      " [ -7.06405756  -5.8091228 ]\n",
      " [ -4.63378357 -15.11976914]\n",
      " [ -0.161628   -13.74253896]\n",
      " [ -0.27469686  -9.10893047]\n",
      " [ -1.52581965 -13.4805281 ]\n",
      " [-17.37843989 -14.04485744]\n",
      " [ -9.73703083 -10.68895384]\n",
      " [ -3.43790955  -9.38881128]\n",
      " [ -8.88739005 -15.84046085]\n",
      " [-10.1106139  -15.69952877]\n",
      " [  1.36813896  -7.26246848]\n",
      " [ -3.26293718  -5.76744476]\n",
      " [-13.02119581 -15.24276954]\n",
      " [ -9.199326    -4.76316504]\n",
      " [  3.14067168 -11.30267877]\n",
      " [  1.3522619  -11.14403085]\n",
      " [  9.99278417  -6.97103234]\n",
      " [ -3.12586201  -8.11516234]\n",
      " [ -3.5016221  -24.08534323]\n",
      " [-11.16141478   1.82045078]\n",
      " [-10.36145166   2.72176978]\n",
      " [ -8.575024     1.56336011]\n",
      " [-11.94771149  -3.8376678 ]\n",
      " [ -6.00779869  -2.48262376]\n",
      " [ -2.77873952 -10.23632065]\n",
      " [ -6.73552402   2.93022251]\n",
      " [-16.95332188  -4.94756965]\n",
      " [-12.58026693  -9.0598872 ]\n",
      " [ -0.38393601 -18.45901092]\n",
      " [  2.22676304  -2.42903473]\n",
      " [ -5.15670696  -0.72801656]\n",
      " [ -7.69817803   0.50709419]\n",
      " [  5.69572764 -14.68753185]\n",
      " [ -9.365608   -10.54086446]\n",
      " [ -4.44303342 -11.38904217]\n",
      " [ -8.24500252   1.18496937]\n",
      " [ -2.48010064  -7.34753746]\n",
      " [  2.76637203 -12.41572218]\n",
      " [ -2.79324879  -7.8064805 ]\n",
      " [ -1.15014023  -4.92424831]\n",
      " [  4.27019492  -7.59551504]\n",
      " [ -7.54395685  -7.0879286 ]\n",
      " [ -4.61134786 -12.22696064]\n",
      " [-15.99702202  -9.80872354]\n",
      " [ -3.88043137  -7.53687752]\n",
      " [ -6.99293747  -5.45601005]\n",
      " [ -9.25861305  -5.78455677]\n",
      " [ -4.74420063  -9.91280731]\n",
      " [ -1.06616082 -11.70048938]\n",
      " [ -3.62812213  -8.75042246]\n",
      " [ -9.84696412  -7.03469571]\n",
      " [-20.585751    -9.42026055]\n",
      " [ -1.23872436  -5.96383822]\n",
      " [ -1.79541316  -5.84298844]\n",
      " [  1.07830298 -17.04193631]\n",
      " [  7.02454229 -13.49220448]\n",
      " [-14.29686703  -9.491517  ]\n",
      " [  0.85057791 -21.25959563]\n",
      " [  5.06746966  -9.81193747]\n",
      " [-14.79654342  -5.41287069]\n",
      " [-11.75256804 -12.21504674]\n",
      " [ -7.70505711  -9.32764909]\n",
      " [ -4.03099171  -4.51545274]\n",
      " [ -1.62750246 -10.86650473]\n",
      " [ -9.53620971 -21.33513818]\n",
      " [-10.05621965 -11.36943364]\n",
      " [ -1.88859296  -8.04207689]\n",
      " [-24.9268579    1.55397783]\n",
      " [-17.2226442   -0.54116508]\n",
      " [ -2.79048075 -16.3254985 ]\n",
      " [-10.89739077  -8.98367945]\n",
      " [-12.86257598 -18.6930889 ]\n",
      " [ -6.1686164  -14.11070808]\n",
      " [ -1.5689438  -11.90099413]\n",
      " [-18.20557047 -21.49188998]\n",
      " [  1.37220959 -12.37402169]\n",
      " [ -7.27931398  -5.02309465]\n",
      " [-12.59828391 -12.94062962]\n",
      " [-13.955963   -12.6348985 ]\n",
      " [-13.47974335   1.82177439]\n",
      " [  2.8085271   -1.3837482 ]\n",
      " [-12.00781571 -16.00511104]\n",
      " [-15.47656455 -14.61523228]\n",
      " [-17.41546551 -21.75885841]\n",
      " [ -6.61213184 -14.39462156]\n",
      " [-22.43709969  -0.92547147]\n",
      " [  2.83707331 -11.464685  ]] [0 0 0 0 0 0 0 0 0 0 0 0 0 0 0 0 0 0 0 0 0 0 0 0 0 0 0 0 0 0 0 0 0 0 0 0 0\n",
      " 0 0 0 0 0 0 0 0 0 0 0 0 0 0 0 0 0 0 0 0 0 0 0 0 0 0 0 0 0 0 0 0 0 0 0 0 0\n",
      " 0 0 0 0 0 0 0 0 0 0 0 0 0 0 1 0 0 0 0 0 0 0 0 0 0 0 0 0 0 0 0 0 0 0 0 0 0\n",
      " 0 0 0 0 0 0 0 0 0 0 0 0 0 0 0 0 0 0 0 0 0 0 0 0 0 0 0 0 0 0 0 0 0 0 0 0 0\n",
      " 0 0 0 0 0 0 0 0 0 0 0 0 0 0 0 0 0 0 0 0 0 0 0 0 0 0 0 0 0 0 0 0 0 0 0 0 0\n",
      " 0 0 0 0 0 0 0 0 1 0 0 0 0 0 0 0 0 0 0 0 0 0 0 0 0 0 0 0 0 0 0 0 0 0 0 0 0\n",
      " 0 1 0 0 0 0 0 0 0 0 0 0 0 0 0 0 0 0 0 0 0 0 0 0 0 0 0 0 0 0 0 0 0 0 0 1 0\n",
      " 0 0 0 0 0 0 0 0 0 0 0 0 0 0 1 0 0 0 0 0 0 0 0 0 0 0 0 0 0 0 0 0 0 0 0 0 0\n",
      " 0 0 0 0 0 0 0 0 0 0 0 0 0 0 0 0 0 0 0 0 0 0 0 0 0 0 0 0 0 0 0 0 0 0 0 0 0\n",
      " 0 0 0 0 0 0 0 0 0 0 0 0 0 0 0 0 0 0 0 0 0 0 0 0 0 0 0 0 0 0 0 0 0 0 0 0 0\n",
      " 0 0 0 0 0 0 0 0 0 0 0 0 0 0 0 0 0 0 0 0 0 0 0 0 0 0 0 0 0 0 0 0 0 0 0]\n"
     ]
    }
   ],
   "source": [
    "from mglearn.datasets import make_blobs\n",
    "x, y = make_blobs(n_samples = (400, 5), centers = 2, cluster_std = [7, 2], random_state = 11)\n",
    "print(x, y)"
   ]
  },
  {
   "cell_type": "code",
   "execution_count": 47,
   "id": "b0405601",
   "metadata": {},
   "outputs": [],
   "source": [
    "x_train, x_test, y_train, y_test = train_test_split(x, y, random_state= 111)"
   ]
  },
  {
   "cell_type": "code",
   "execution_count": 49,
   "id": "c6c79329",
   "metadata": {},
   "outputs": [
    {
     "data": {
      "text/plain": [
       "array([0, 0, 0, 0, 0, 0, 0, 0, 0, 0, 0, 0, 0, 0, 0, 0, 0, 0, 0, 0, 0, 0,\n",
       "       0, 0, 0, 0, 0, 0, 0, 0, 0, 0, 0, 0, 0, 0, 0, 0, 0, 0, 0, 0, 0, 0,\n",
       "       0, 0, 0, 0, 0, 0, 0, 0, 0, 0, 0, 0, 0, 0, 0, 0, 0, 0, 0, 0, 0, 0,\n",
       "       0, 0, 0, 0, 0, 0, 0, 0, 0, 0, 0, 0, 0, 0, 0, 0, 0, 0, 0, 0, 0, 0,\n",
       "       0, 0, 0, 0, 0, 0, 0, 0, 0, 0, 0, 0, 0, 0])"
      ]
     },
     "execution_count": 49,
     "metadata": {},
     "output_type": "execute_result"
    }
   ],
   "source": [
    "SVC(gamma = 0.5, probability = True)\n",
    "svc.fit(x_train, y_train)\n",
    "preds = svc.predict(x_test)\n",
    "preds"
   ]
  },
  {
   "cell_type": "code",
   "execution_count": 54,
   "id": "9c305b0b",
   "metadata": {
    "collapsed": true
   },
   "outputs": [
    {
     "data": {
      "text/plain": [
       "array([-1.00927726, -1.02896865, -1.02346602, -1.01640459, -1.00425514,\n",
       "       -1.00036591, -1.01540784, -1.01314319, -1.02883131, -1.01265604,\n",
       "       -1.01742697, -1.0152277 , -1.02361304, -0.99696046, -1.02112944,\n",
       "       -1.01900177, -1.00394303, -1.01039736, -1.00329166, -1.01810179,\n",
       "       -1.00209555, -1.00450903, -0.99162977, -1.01148436, -1.01521755,\n",
       "       -1.00801562, -1.00089271, -1.03111359, -1.0136792 , -1.01387944,\n",
       "       -1.03192256, -1.01969876, -1.0312535 , -1.01550033, -1.0142815 ,\n",
       "       -1.01484869, -1.00983989, -1.03184804, -1.02278711, -1.01165332,\n",
       "       -1.01335897, -1.01025849, -1.00792459, -1.01023827, -1.01321281,\n",
       "       -1.02023452, -1.02579487, -1.01505119, -1.01994672, -1.004068  ,\n",
       "       -1.00224617, -1.02369554, -1.01367743, -1.00805415, -1.02645384,\n",
       "       -1.01044977, -1.00646976, -1.01290196, -1.01375761, -1.01134831,\n",
       "       -1.01872245, -1.00396649, -1.00175071, -1.03110905, -1.00572063,\n",
       "       -1.01636185, -1.01283741, -1.01461646, -1.01309863, -1.01118361,\n",
       "       -1.01499785, -1.00776632, -1.01601   , -1.00683742, -1.0144364 ,\n",
       "       -0.9962326 , -1.01464352, -1.02286903, -1.01251037, -1.02367852,\n",
       "       -1.00420745, -1.01841127, -1.03437339, -1.00622749, -1.00846244,\n",
       "       -1.01438861, -1.01419353, -1.00619758, -1.00841846, -1.0122094 ,\n",
       "       -1.00630087, -1.0246815 , -1.02638892, -1.01207443, -1.01365992,\n",
       "       -1.02292174, -1.01272632, -1.01360398, -1.00304915, -1.0179356 ,\n",
       "       -1.02073318, -1.0003757 ])"
      ]
     },
     "execution_count": 54,
     "metadata": {},
     "output_type": "execute_result"
    }
   ],
   "source": [
    "svc.decision_function(x_test)   # 0보다 크면 1, 0보다 작으면 0으로 예측"
   ]
  },
  {
   "cell_type": "code",
   "execution_count": 51,
   "id": "210632b5",
   "metadata": {},
   "outputs": [],
   "source": [
    "# sklearn에서 모델이 확률값을 리턴하는 함수\n",
    "# 1. decision_function() - 0을 기준으로. svc\n",
    "# 2. predict_proba() - 높은 확률값의 클래스. svc"
   ]
  },
  {
   "cell_type": "code",
   "execution_count": 55,
   "id": "657bd4fe",
   "metadata": {},
   "outputs": [
    {
     "ename": "AttributeError",
     "evalue": "predict_proba is not available when  probability=False",
     "output_type": "error",
     "traceback": [
      "\u001b[1;31m---------------------------------------------------------------------------\u001b[0m",
      "\u001b[1;31mAttributeError\u001b[0m                            Traceback (most recent call last)",
      "\u001b[1;32m~\\AppData\\Local\\Temp/ipykernel_10656/3497983971.py\u001b[0m in \u001b[0;36m<module>\u001b[1;34m\u001b[0m\n\u001b[1;32m----> 1\u001b[1;33m \u001b[0msvc\u001b[0m\u001b[1;33m.\u001b[0m\u001b[0mpredict_proba\u001b[0m\u001b[1;33m(\u001b[0m\u001b[0mx_test\u001b[0m\u001b[1;33m)\u001b[0m\u001b[1;33m\u001b[0m\u001b[1;33m\u001b[0m\u001b[0m\n\u001b[0m",
      "\u001b[1;32m~\\anaconda3\\lib\\site-packages\\sklearn\\svm\\_base.py\u001b[0m in \u001b[0;36mpredict_proba\u001b[1;34m(self)\u001b[0m\n\u001b[0;32m    664\u001b[0m         \u001b[0mdatasets\u001b[0m\u001b[1;33m.\u001b[0m\u001b[1;33m\u001b[0m\u001b[1;33m\u001b[0m\u001b[0m\n\u001b[0;32m    665\u001b[0m         \"\"\"\n\u001b[1;32m--> 666\u001b[1;33m         \u001b[0mself\u001b[0m\u001b[1;33m.\u001b[0m\u001b[0m_check_proba\u001b[0m\u001b[1;33m(\u001b[0m\u001b[1;33m)\u001b[0m\u001b[1;33m\u001b[0m\u001b[1;33m\u001b[0m\u001b[0m\n\u001b[0m\u001b[0;32m    667\u001b[0m         \u001b[1;32mreturn\u001b[0m \u001b[0mself\u001b[0m\u001b[1;33m.\u001b[0m\u001b[0m_predict_proba\u001b[0m\u001b[1;33m\u001b[0m\u001b[1;33m\u001b[0m\u001b[0m\n\u001b[0;32m    668\u001b[0m \u001b[1;33m\u001b[0m\u001b[0m\n",
      "\u001b[1;32m~\\anaconda3\\lib\\site-packages\\sklearn\\svm\\_base.py\u001b[0m in \u001b[0;36m_check_proba\u001b[1;34m(self)\u001b[0m\n\u001b[0;32m    631\u001b[0m     \u001b[1;32mdef\u001b[0m \u001b[0m_check_proba\u001b[0m\u001b[1;33m(\u001b[0m\u001b[0mself\u001b[0m\u001b[1;33m)\u001b[0m\u001b[1;33m:\u001b[0m\u001b[1;33m\u001b[0m\u001b[1;33m\u001b[0m\u001b[0m\n\u001b[0;32m    632\u001b[0m         \u001b[1;32mif\u001b[0m \u001b[1;32mnot\u001b[0m \u001b[0mself\u001b[0m\u001b[1;33m.\u001b[0m\u001b[0mprobability\u001b[0m\u001b[1;33m:\u001b[0m\u001b[1;33m\u001b[0m\u001b[1;33m\u001b[0m\u001b[0m\n\u001b[1;32m--> 633\u001b[1;33m             raise AttributeError(\"predict_proba is not available when \"\n\u001b[0m\u001b[0;32m    634\u001b[0m                                  \" probability=False\")\n\u001b[0;32m    635\u001b[0m         \u001b[1;32mif\u001b[0m \u001b[0mself\u001b[0m\u001b[1;33m.\u001b[0m\u001b[0m_impl\u001b[0m \u001b[1;32mnot\u001b[0m \u001b[1;32min\u001b[0m \u001b[1;33m(\u001b[0m\u001b[1;34m'c_svc'\u001b[0m\u001b[1;33m,\u001b[0m \u001b[1;34m'nu_svc'\u001b[0m\u001b[1;33m)\u001b[0m\u001b[1;33m:\u001b[0m\u001b[1;33m\u001b[0m\u001b[1;33m\u001b[0m\u001b[0m\n",
      "\u001b[1;31mAttributeError\u001b[0m: predict_proba is not available when  probability=False"
     ]
    }
   ],
   "source": [
    "svc.predict_proba(x_test)"
   ]
  },
  {
   "cell_type": "code",
   "execution_count": null,
   "id": "16511776",
   "metadata": {},
   "outputs": [],
   "source": []
  },
  {
   "cell_type": "code",
   "execution_count": 64,
   "id": "4155b877",
   "metadata": {},
   "outputs": [],
   "source": [
    "from sklearn.metrics import classification_report, confusion_matrix"
   ]
  },
  {
   "cell_type": "code",
   "execution_count": 65,
   "id": "21db01a7",
   "metadata": {},
   "outputs": [
    {
     "ename": "ValueError",
     "evalue": "Found input variables with inconsistent numbers of samples: [450, 102]",
     "output_type": "error",
     "traceback": [
      "\u001b[1;31m---------------------------------------------------------------------------\u001b[0m",
      "\u001b[1;31mValueError\u001b[0m                                Traceback (most recent call last)",
      "\u001b[1;32m~\\AppData\\Local\\Temp/ipykernel_10656/538315736.py\u001b[0m in \u001b[0;36m<module>\u001b[1;34m\u001b[0m\n\u001b[1;32m----> 1\u001b[1;33m \u001b[0mcm\u001b[0m \u001b[1;33m=\u001b[0m \u001b[0mclassification_report\u001b[0m\u001b[1;33m(\u001b[0m\u001b[0mtree_preds\u001b[0m\u001b[1;33m,\u001b[0m \u001b[0my_test\u001b[0m\u001b[1;33m)\u001b[0m\u001b[1;33m\u001b[0m\u001b[1;33m\u001b[0m\u001b[0m\n\u001b[0m\u001b[0;32m      2\u001b[0m \u001b[0mcm\u001b[0m\u001b[1;33m\u001b[0m\u001b[1;33m\u001b[0m\u001b[0m\n",
      "\u001b[1;32m~\\anaconda3\\lib\\site-packages\\sklearn\\utils\\validation.py\u001b[0m in \u001b[0;36minner_f\u001b[1;34m(*args, **kwargs)\u001b[0m\n\u001b[0;32m     61\u001b[0m             \u001b[0mextra_args\u001b[0m \u001b[1;33m=\u001b[0m \u001b[0mlen\u001b[0m\u001b[1;33m(\u001b[0m\u001b[0margs\u001b[0m\u001b[1;33m)\u001b[0m \u001b[1;33m-\u001b[0m \u001b[0mlen\u001b[0m\u001b[1;33m(\u001b[0m\u001b[0mall_args\u001b[0m\u001b[1;33m)\u001b[0m\u001b[1;33m\u001b[0m\u001b[1;33m\u001b[0m\u001b[0m\n\u001b[0;32m     62\u001b[0m             \u001b[1;32mif\u001b[0m \u001b[0mextra_args\u001b[0m \u001b[1;33m<=\u001b[0m \u001b[1;36m0\u001b[0m\u001b[1;33m:\u001b[0m\u001b[1;33m\u001b[0m\u001b[1;33m\u001b[0m\u001b[0m\n\u001b[1;32m---> 63\u001b[1;33m                 \u001b[1;32mreturn\u001b[0m \u001b[0mf\u001b[0m\u001b[1;33m(\u001b[0m\u001b[1;33m*\u001b[0m\u001b[0margs\u001b[0m\u001b[1;33m,\u001b[0m \u001b[1;33m**\u001b[0m\u001b[0mkwargs\u001b[0m\u001b[1;33m)\u001b[0m\u001b[1;33m\u001b[0m\u001b[1;33m\u001b[0m\u001b[0m\n\u001b[0m\u001b[0;32m     64\u001b[0m \u001b[1;33m\u001b[0m\u001b[0m\n\u001b[0;32m     65\u001b[0m             \u001b[1;31m# extra_args > 0\u001b[0m\u001b[1;33m\u001b[0m\u001b[1;33m\u001b[0m\u001b[0m\n",
      "\u001b[1;32m~\\anaconda3\\lib\\site-packages\\sklearn\\metrics\\_classification.py\u001b[0m in \u001b[0;36mclassification_report\u001b[1;34m(y_true, y_pred, labels, target_names, sample_weight, digits, output_dict, zero_division)\u001b[0m\n\u001b[0;32m   1968\u001b[0m     \"\"\"\n\u001b[0;32m   1969\u001b[0m \u001b[1;33m\u001b[0m\u001b[0m\n\u001b[1;32m-> 1970\u001b[1;33m     \u001b[0my_type\u001b[0m\u001b[1;33m,\u001b[0m \u001b[0my_true\u001b[0m\u001b[1;33m,\u001b[0m \u001b[0my_pred\u001b[0m \u001b[1;33m=\u001b[0m \u001b[0m_check_targets\u001b[0m\u001b[1;33m(\u001b[0m\u001b[0my_true\u001b[0m\u001b[1;33m,\u001b[0m \u001b[0my_pred\u001b[0m\u001b[1;33m)\u001b[0m\u001b[1;33m\u001b[0m\u001b[1;33m\u001b[0m\u001b[0m\n\u001b[0m\u001b[0;32m   1971\u001b[0m \u001b[1;33m\u001b[0m\u001b[0m\n\u001b[0;32m   1972\u001b[0m     \u001b[1;32mif\u001b[0m \u001b[0mlabels\u001b[0m \u001b[1;32mis\u001b[0m \u001b[1;32mNone\u001b[0m\u001b[1;33m:\u001b[0m\u001b[1;33m\u001b[0m\u001b[1;33m\u001b[0m\u001b[0m\n",
      "\u001b[1;32m~\\anaconda3\\lib\\site-packages\\sklearn\\metrics\\_classification.py\u001b[0m in \u001b[0;36m_check_targets\u001b[1;34m(y_true, y_pred)\u001b[0m\n\u001b[0;32m     81\u001b[0m     \u001b[0my_pred\u001b[0m \u001b[1;33m:\u001b[0m \u001b[0marray\u001b[0m \u001b[1;32mor\u001b[0m \u001b[0mindicator\u001b[0m \u001b[0mmatrix\u001b[0m\u001b[1;33m\u001b[0m\u001b[1;33m\u001b[0m\u001b[0m\n\u001b[0;32m     82\u001b[0m     \"\"\"\n\u001b[1;32m---> 83\u001b[1;33m     \u001b[0mcheck_consistent_length\u001b[0m\u001b[1;33m(\u001b[0m\u001b[0my_true\u001b[0m\u001b[1;33m,\u001b[0m \u001b[0my_pred\u001b[0m\u001b[1;33m)\u001b[0m\u001b[1;33m\u001b[0m\u001b[1;33m\u001b[0m\u001b[0m\n\u001b[0m\u001b[0;32m     84\u001b[0m     \u001b[0mtype_true\u001b[0m \u001b[1;33m=\u001b[0m \u001b[0mtype_of_target\u001b[0m\u001b[1;33m(\u001b[0m\u001b[0my_true\u001b[0m\u001b[1;33m)\u001b[0m\u001b[1;33m\u001b[0m\u001b[1;33m\u001b[0m\u001b[0m\n\u001b[0;32m     85\u001b[0m     \u001b[0mtype_pred\u001b[0m \u001b[1;33m=\u001b[0m \u001b[0mtype_of_target\u001b[0m\u001b[1;33m(\u001b[0m\u001b[0my_pred\u001b[0m\u001b[1;33m)\u001b[0m\u001b[1;33m\u001b[0m\u001b[1;33m\u001b[0m\u001b[0m\n",
      "\u001b[1;32m~\\anaconda3\\lib\\site-packages\\sklearn\\utils\\validation.py\u001b[0m in \u001b[0;36mcheck_consistent_length\u001b[1;34m(*arrays)\u001b[0m\n\u001b[0;32m    317\u001b[0m     \u001b[0muniques\u001b[0m \u001b[1;33m=\u001b[0m \u001b[0mnp\u001b[0m\u001b[1;33m.\u001b[0m\u001b[0munique\u001b[0m\u001b[1;33m(\u001b[0m\u001b[0mlengths\u001b[0m\u001b[1;33m)\u001b[0m\u001b[1;33m\u001b[0m\u001b[1;33m\u001b[0m\u001b[0m\n\u001b[0;32m    318\u001b[0m     \u001b[1;32mif\u001b[0m \u001b[0mlen\u001b[0m\u001b[1;33m(\u001b[0m\u001b[0muniques\u001b[0m\u001b[1;33m)\u001b[0m \u001b[1;33m>\u001b[0m \u001b[1;36m1\u001b[0m\u001b[1;33m:\u001b[0m\u001b[1;33m\u001b[0m\u001b[1;33m\u001b[0m\u001b[0m\n\u001b[1;32m--> 319\u001b[1;33m         raise ValueError(\"Found input variables with inconsistent numbers of\"\n\u001b[0m\u001b[0;32m    320\u001b[0m                          \" samples: %r\" % [int(l) for l in lengths])\n\u001b[0;32m    321\u001b[0m \u001b[1;33m\u001b[0m\u001b[0m\n",
      "\u001b[1;31mValueError\u001b[0m: Found input variables with inconsistent numbers of samples: [450, 102]"
     ]
    }
   ],
   "source": [
    "cm = classification_report(tree_preds, y_test)\n",
    "cm"
   ]
  },
  {
   "cell_type": "code",
   "execution_count": 63,
   "id": "df61f246",
   "metadata": {},
   "outputs": [
    {
     "ename": "NameError",
     "evalue": "name 'cm' is not defined",
     "output_type": "error",
     "traceback": [
      "\u001b[1;31m---------------------------------------------------------------------------\u001b[0m",
      "\u001b[1;31mNameError\u001b[0m                                 Traceback (most recent call last)",
      "\u001b[1;32m~\\AppData\\Local\\Temp/ipykernel_10656/4207453364.py\u001b[0m in \u001b[0;36m<module>\u001b[1;34m\u001b[0m\n\u001b[1;32m----> 1\u001b[1;33m \u001b[0mcm\u001b[0m\u001b[1;33m[\u001b[0m\u001b[1;36m0\u001b[0m\u001b[1;33m,\u001b[0m\u001b[1;36m0\u001b[0m\u001b[1;33m]\u001b[0m \u001b[1;33m+\u001b[0m \u001b[0mcm\u001b[0m\u001b[1;33m[\u001b[0m\u001b[1;36m1\u001b[0m\u001b[1;33m,\u001b[0m\u001b[1;36m1\u001b[0m\u001b[1;33m]\u001b[0m \u001b[1;33m/\u001b[0m \u001b[0mcm\u001b[0m\u001b[1;33m.\u001b[0m\u001b[0msum\u001b[0m\u001b[1;33m(\u001b[0m\u001b[1;33m)\u001b[0m\u001b[1;33m\u001b[0m\u001b[1;33m\u001b[0m\u001b[0m\n\u001b[0m",
      "\u001b[1;31mNameError\u001b[0m: name 'cm' is not defined"
     ]
    }
   ],
   "source": [
    "# accuracy = (cm[0,0] + cm[1,1]) / cm.sum()\n",
    "\n",
    "# # 0 class\n",
    "# precision = cm[0,0] / cm[:, 0].sum()\n",
    "# recall = cm[0,0] / cm[0, :].sum()"
   ]
  },
  {
   "cell_type": "code",
   "execution_count": null,
   "id": "9c2bb565",
   "metadata": {},
   "outputs": [],
   "source": []
  },
  {
   "cell_type": "code",
   "execution_count": null,
   "id": "61e804c8",
   "metadata": {},
   "outputs": [],
   "source": []
  },
  {
   "cell_type": "code",
   "execution_count": null,
   "id": "f29f7e4a",
   "metadata": {},
   "outputs": [],
   "source": []
  },
  {
   "cell_type": "code",
   "execution_count": null,
   "id": "6b817cf7",
   "metadata": {},
   "outputs": [],
   "source": []
  },
  {
   "cell_type": "code",
   "execution_count": 66,
   "id": "80dde0f2",
   "metadata": {},
   "outputs": [],
   "source": [
    "# 정밀도-재현율 곡선과 평균정밀도\n",
    "# 다양한 예측확률 임계값을 통해 모델을 평가하는 방법\n",
    "# 임계값이 변화함에 따라 정밀도와 재현율값의 변화를 그래프로 나타낸다\n",
    "# precision_reacll_curve"
   ]
  },
  {
   "cell_type": "code",
   "execution_count": 67,
   "id": "2cfd91e1",
   "metadata": {},
   "outputs": [
    {
     "ename": "SyntaxError",
     "evalue": "invalid syntax (Temp/ipykernel_10656/369835701.py, line 2)",
     "output_type": "error",
     "traceback": [
      "\u001b[1;36m  File \u001b[1;32m\"C:\\Users\\bitcamp\\AppData\\Local\\Temp/ipykernel_10656/369835701.py\"\u001b[1;36m, line \u001b[1;32m2\u001b[0m\n\u001b[1;33m    x y = make_blobs(n_samples = 10000, centers = 2, n_features = 2, cluster_std[1,2, 1]. random_state = 0)\u001b[0m\n\u001b[1;37m      ^\u001b[0m\n\u001b[1;31mSyntaxError\u001b[0m\u001b[1;31m:\u001b[0m invalid syntax\n"
     ]
    }
   ],
   "source": [
    "from sklearn.datasets import make_bobls\n",
    "x y = make_blobs(n_samples = 10000, centers = 2, n_features = 2, cluster_std[1,2, 1]. random_state = 0)\n",
    "                                                                            "
   ]
  },
  {
   "cell_type": "code",
   "execution_count": null,
   "id": "5b8ee6df",
   "metadata": {},
   "outputs": [],
   "source": []
  },
  {
   "cell_type": "code",
   "execution_count": 68,
   "id": "67112b3d",
   "metadata": {},
   "outputs": [],
   "source": [
    "from sklearn.svm import SVC\n",
    "svc = SVC(gamma = 0.05).fit(x_train, y_train)"
   ]
  },
  {
   "cell_type": "code",
   "execution_count": null,
   "id": "66c5423c",
   "metadata": {},
   "outputs": [],
   "source": []
  },
  {
   "cell_type": "code",
   "execution_count": 69,
   "id": "a93126f4",
   "metadata": {},
   "outputs": [
    {
     "ename": "ImportError",
     "evalue": "cannot import name 'precision_reacll_curve' from 'sklearn.metrics' (C:\\Users\\bitcamp\\anaconda3\\lib\\site-packages\\sklearn\\metrics\\__init__.py)",
     "output_type": "error",
     "traceback": [
      "\u001b[1;31m---------------------------------------------------------------------------\u001b[0m",
      "\u001b[1;31mImportError\u001b[0m                               Traceback (most recent call last)",
      "\u001b[1;32m~\\AppData\\Local\\Temp/ipykernel_10656/2025968908.py\u001b[0m in \u001b[0;36m<module>\u001b[1;34m\u001b[0m\n\u001b[1;32m----> 1\u001b[1;33m \u001b[1;32mfrom\u001b[0m \u001b[0msklearn\u001b[0m\u001b[1;33m.\u001b[0m\u001b[0mmetrics\u001b[0m \u001b[1;32mimport\u001b[0m \u001b[0mprecision_reacll_curve\u001b[0m\u001b[1;33m\u001b[0m\u001b[1;33m\u001b[0m\u001b[0m\n\u001b[0m",
      "\u001b[1;31mImportError\u001b[0m: cannot import name 'precision_reacll_curve' from 'sklearn.metrics' (C:\\Users\\bitcamp\\anaconda3\\lib\\site-packages\\sklearn\\metrics\\__init__.py)"
     ]
    }
   ],
   "source": [
    "from sklearn.metrics import precision_reacll_curve"
   ]
  },
  {
   "cell_type": "code",
   "execution_count": null,
   "id": "43d57f35",
   "metadata": {},
   "outputs": [],
   "source": []
  },
  {
   "cell_type": "code",
   "execution_count": null,
   "id": "1c372548",
   "metadata": {},
   "outputs": [],
   "source": []
  },
  {
   "cell_type": "code",
   "execution_count": 70,
   "id": "d833623f",
   "metadata": {},
   "outputs": [
    {
     "ename": "SyntaxError",
     "evalue": "invalid syntax (Temp/ipykernel_10656/992228692.py, line 3)",
     "output_type": "error",
     "traceback": [
      "\u001b[1;36m  File \u001b[1;32m\"C:\\Users\\bitcamp\\AppData\\Local\\Temp/ipykernel_10656/992228692.py\"\u001b[1;36m, line \u001b[1;32m3\u001b[0m\n\u001b[1;33m    rc = RandomForestClassifier(n_estimators=100, random_state=)\u001b[0m\n\u001b[1;37m                                                               ^\u001b[0m\n\u001b[1;31mSyntaxError\u001b[0m\u001b[1;31m:\u001b[0m invalid syntax\n"
     ]
    }
   ],
   "source": [
    "from sklearn.ensemble import RandomForestClassifier\n",
    "\n",
    "rc = RandomForestClassifier(n_estimators=100, random_state=)\n",
    "rfc.fit(x_train, y_train)"
   ]
  },
  {
   "cell_type": "code",
   "execution_count": null,
   "id": "02dc4803",
   "metadata": {},
   "outputs": [],
   "source": []
  },
  {
   "cell_type": "code",
   "execution_count": null,
   "id": "7496acc5",
   "metadata": {},
   "outputs": [],
   "source": []
  },
  {
   "cell_type": "code",
   "execution_count": 71,
   "id": "1a8989f9",
   "metadata": {},
   "outputs": [],
   "source": [
    "### ROC_AUC 곡선\n",
    "# 모든 임계값에서 TPR(진짜 양성비율)과 FPR(거짓양성비율)을 그래프로 나타낸 곡선\n",
    "# TPR - 재현율(recall), 실제 True인 데이터를 True라고 맞춘 비율\n",
    "# FPR - 거짓양성비율, 실제 False인 데이터를 True라고 잘못 맞춘 비율\n",
    "# TPR은 높을수록 좋고, FPR은 낮을수록 좋은 모델\n",
    "# \n"
   ]
  },
  {
   "cell_type": "code",
   "execution_count": null,
   "id": "14a1e21c",
   "metadata": {},
   "outputs": [],
   "source": []
  },
  {
   "cell_type": "code",
   "execution_count": null,
   "id": "fdecb81d",
   "metadata": {},
   "outputs": [],
   "source": []
  },
  {
   "cell_type": "code",
   "execution_count": 73,
   "id": "c6312e98",
   "metadata": {},
   "outputs": [
    {
     "data": {
      "text/plain": [
       "<matplotlib.legend.Legend at 0x186fbbb6d90>"
      ]
     },
     "execution_count": 73,
     "metadata": {},
     "output_type": "execute_result"
    },
    {
     "name": "stderr",
     "output_type": "stream",
     "text": [
      "C:\\Users\\bitcamp\\anaconda3\\lib\\site-packages\\matplotlib\\backends\\backend_agg.py:240: RuntimeWarning: Glyph 44257 missing from current font.\n",
      "  font.set_text(s, 0.0, flags=flags)\n",
      "C:\\Users\\bitcamp\\anaconda3\\lib\\site-packages\\matplotlib\\backends\\backend_agg.py:240: RuntimeWarning: Glyph 49440 missing from current font.\n",
      "  font.set_text(s, 0.0, flags=flags)\n",
      "C:\\Users\\bitcamp\\anaconda3\\lib\\site-packages\\matplotlib\\backends\\backend_agg.py:203: RuntimeWarning: Glyph 44257 missing from current font.\n",
      "  font.set_text(s, 0, flags=flags)\n",
      "C:\\Users\\bitcamp\\anaconda3\\lib\\site-packages\\matplotlib\\backends\\backend_agg.py:203: RuntimeWarning: Glyph 49440 missing from current font.\n",
      "  font.set_text(s, 0, flags=flags)\n"
     ]
    },
    {
     "data": {
      "image/png": "[encoded data removed]",
      "text/plain": [
       "<Figure size 432x288 with 1 Axes>"
      ]
     },
     "metadata": {
      "needs_background": "light"
     },
     "output_type": "display_data"
    }
   ],
   "source": [
    "from sklearn.metrics import roc_curve\n",
    "\n",
    "fpr, tpr, thresholds = roc_curve(y_test, svc.decision_function(x_test))\n",
    "\n",
    "plt.plot(fpr, tpr, label = 'ROC곡선')\n",
    "plt.xlabel('FPR')\n",
    "plt.ylabel('TPR')\n",
    "plt.legend()\n",
    "\n",
    "# tpr은 높고, fpr은 낮을수록 좋은 모델 - 좌상으로 그려질수록 좋은 모델\n"
   ]
  },
  {
   "cell_type": "code",
   "execution_count": 74,
   "id": "e9852c13",
   "metadata": {},
   "outputs": [
    {
     "ename": "NameError",
     "evalue": "name 'rfc' is not defined",
     "output_type": "error",
     "traceback": [
      "\u001b[1;31m---------------------------------------------------------------------------\u001b[0m",
      "\u001b[1;31mNameError\u001b[0m                                 Traceback (most recent call last)",
      "\u001b[1;32m~\\AppData\\Local\\Temp/ipykernel_10656/1575458118.py\u001b[0m in \u001b[0;36m<module>\u001b[1;34m\u001b[0m\n\u001b[1;32m----> 1\u001b[1;33m \u001b[0mfpr_rfc\u001b[0m\u001b[1;33m,\u001b[0m \u001b[0mtpr_rfc\u001b[0m\u001b[1;33m,\u001b[0m \u001b[0mthresholds\u001b[0m \u001b[1;33m=\u001b[0m \u001b[0mroc_curve\u001b[0m\u001b[1;33m(\u001b[0m\u001b[0my_test\u001b[0m\u001b[1;33m,\u001b[0m \u001b[0mrfc\u001b[0m\u001b[1;33m.\u001b[0m\u001b[0mpredict_proba\u001b[0m\u001b[1;33m(\u001b[0m\u001b[0mx_test\u001b[0m\u001b[1;33m)\u001b[0m\u001b[1;33m[\u001b[0m\u001b[1;33m:\u001b[0m\u001b[1;33m,\u001b[0m \u001b[1;36m1\u001b[0m\u001b[1;33m]\u001b[0m\u001b[1;33m)\u001b[0m\u001b[1;33m\u001b[0m\u001b[1;33m\u001b[0m\u001b[0m\n\u001b[0m",
      "\u001b[1;31mNameError\u001b[0m: name 'rfc' is not defined"
     ]
    }
   ],
   "source": [
    "fpr_rfc, tpr_rfc, thresholds = roc_curve(y_test, rfc.predict_proba(x_test)[:, 1])"
   ]
  },
  {
   "cell_type": "code",
   "execution_count": null,
   "id": "a26bdb30",
   "metadata": {},
   "outputs": [],
   "source": []
  },
  {
   "cell_type": "code",
   "execution_count": 75,
   "id": "67d4ce54",
   "metadata": {},
   "outputs": [
    {
     "ename": "NameError",
     "evalue": "name 'test' is not defined",
     "output_type": "error",
     "traceback": [
      "\u001b[1;31m---------------------------------------------------------------------------\u001b[0m",
      "\u001b[1;31mNameError\u001b[0m                                 Traceback (most recent call last)",
      "\u001b[1;32m~\\AppData\\Local\\Temp/ipykernel_10656/1351410798.py\u001b[0m in \u001b[0;36m<module>\u001b[1;34m\u001b[0m\n\u001b[0;32m      1\u001b[0m \u001b[1;32mfrom\u001b[0m \u001b[0msklearn\u001b[0m\u001b[1;33m.\u001b[0m\u001b[0mmetrics\u001b[0m \u001b[1;32mimport\u001b[0m \u001b[0mroc_auc_score\u001b[0m\u001b[1;33m\u001b[0m\u001b[1;33m\u001b[0m\u001b[0m\n\u001b[1;32m----> 2\u001b[1;33m \u001b[0mrfc_auc_score\u001b[0m \u001b[1;33m=\u001b[0m \u001b[0mroc_auc_score\u001b[0m\u001b[1;33m(\u001b[0m\u001b[0my\u001b[0m\u001b[1;33m-\u001b[0m\u001b[0mtest\u001b[0m\u001b[1;33m,\u001b[0m \u001b[0mrfc\u001b[0m\u001b[1;33m.\u001b[0m\u001b[0mpredict_proba\u001b[0m\u001b[1;33m(\u001b[0m\u001b[0mx_test\u001b[0m\u001b[1;33m)\u001b[0m\u001b[1;33m[\u001b[0m\u001b[1;33m:\u001b[0m\u001b[1;33m,\u001b[0m \u001b[1;36m1\u001b[0m\u001b[1;33m]\u001b[0m\u001b[1;33m)\u001b[0m\u001b[1;33m\u001b[0m\u001b[1;33m\u001b[0m\u001b[0m\n\u001b[0m\u001b[0;32m      3\u001b[0m \u001b[0msvc_auc_score\u001b[0m \u001b[1;33m=\u001b[0m \u001b[0mroc_auc_score\u001b[0m\u001b[1;33m(\u001b[0m\u001b[0my_test\u001b[0m\u001b[1;33m,\u001b[0m \u001b[0msvc\u001b[0m\u001b[1;33m.\u001b[0m\u001b[0mdecision_function\u001b[0m\u001b[1;33m(\u001b[0m\u001b[0mx_test\u001b[0m\u001b[1;33m)\u001b[0m\u001b[1;33m)\u001b[0m\u001b[1;33m\u001b[0m\u001b[1;33m\u001b[0m\u001b[0m\n\u001b[0;32m      4\u001b[0m \u001b[1;33m\u001b[0m\u001b[0m\n\u001b[0;32m      5\u001b[0m \u001b[0mprint\u001b[0m\u001b[1;33m(\u001b[0m\u001b[1;34m'랜덤 포레스트 AUC_SCORE :'\u001b[0m\u001b[1;33m,\u001b[0m \u001b[0mrfc_auc_score\u001b[0m\u001b[1;33m)\u001b[0m\u001b[1;33m\u001b[0m\u001b[1;33m\u001b[0m\u001b[0m\n",
      "\u001b[1;31mNameError\u001b[0m: name 'test' is not defined"
     ]
    }
   ],
   "source": [
    "from sklearn.metrics import roc_auc_score\n",
    "rfc_auc_score = roc_auc_score(y-test, rfc.predict_proba(x_test)[:, 1])\n",
    "svc_auc_score = roc_auc_score(y_test, svc.decision_function(x_test))\n",
    "\n",
    "print('랜덤 포레스트 AUC_SCORE :', rfc_auc_score)\n",
    "print('SVC AUC_SCORE :', svc_auc_score)\n"
   ]
  },
  {
   "cell_type": "code",
   "execution_count": null,
   "id": "13e22a69",
   "metadata": {},
   "outputs": [],
   "source": []
  }
 ],
 "metadata": {
  "kernelspec": {
   "display_name": "Python 3 (ipykernel)",
   "language": "python",
   "name": "python3"
  },
  "language_info": {
   "codemirror_mode": {
    "name": "ipython",
    "version": 3
   },
   "file_extension": ".py",
   "mimetype": "text/x-python",
   "name": "python",
   "nbconvert_exporter": "python",
   "pygments_lexer": "ipython3",
   "version": "3.9.7"
  }
 },
 "nbformat": 4,
 "nbformat_minor": 5
}
